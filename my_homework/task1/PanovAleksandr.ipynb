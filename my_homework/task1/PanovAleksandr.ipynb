{
 "cells": [
  {
   "cell_type": "markdown",
   "metadata": {},
   "source": [
    "# MNIST classification with kNN classifier"
   ]
  },
  {
   "cell_type": "markdown",
   "metadata": {},
   "source": [
    "# Author: Panov Aleksandr 381903-3m"
   ]
  },
  {
   "cell_type": "code",
   "execution_count": 1,
   "metadata": {},
   "outputs": [],
   "source": [
    "import pandas as pd\n",
    "import numpy as np\n",
    "import matplotlib.pyplot as plt"
   ]
  },
  {
   "cell_type": "markdown",
   "metadata": {},
   "source": [
    "## 1. Load MNIST dataset and prepare data"
   ]
  },
  {
   "cell_type": "markdown",
   "metadata": {},
   "source": [
    "Ссылка на датасет: https://www.kaggle.com/oddrationale/mnist-in-csv\n",
    "\n",
    "Предполагается, что данные лежат в папке data."
   ]
  },
  {
   "cell_type": "code",
   "execution_count": 2,
   "metadata": {},
   "outputs": [],
   "source": [
    "data_train = pd.read_csv(\"./data/mnist_train.csv\", sep = ',', engine = 'python')\n",
    "data_test = pd.read_csv(\"./data/mnist_test.csv\", sep = ',', engine = 'python')"
   ]
  },
  {
   "cell_type": "code",
   "execution_count": 3,
   "metadata": {},
   "outputs": [],
   "source": [
    "mini_train = data_train.sample(frac=0.3, random_state=2)\n",
    "mini_test = data_test.sample(frac=0.2, random_state=2)"
   ]
  },
  {
   "cell_type": "code",
   "execution_count": 4,
   "metadata": {},
   "outputs": [],
   "source": [
    "def getXY(data):\n",
    "    return data.drop(('label'), axis = 1), data['label']"
   ]
  },
  {
   "cell_type": "code",
   "execution_count": 5,
   "metadata": {},
   "outputs": [
    {
     "name": "stdout",
     "output_type": "stream",
     "text": [
      "(60000, 784) (10000, 784)\n",
      "(18000, 784) (2000, 784)\n"
     ]
    }
   ],
   "source": [
    "x_train, y_train = getXY(data_train)\n",
    "x_test, y_test = getXY(data_test)\n",
    "print(x_train.shape, x_test.shape)\n",
    "\n",
    "x_mini_train, y_mini_train = getXY(mini_train)\n",
    "x_mini_test, y_mini_test = getXY(mini_test)\n",
    "print(x_mini_train.shape, x_mini_test.shape)"
   ]
  },
  {
   "cell_type": "code",
   "execution_count": 6,
   "metadata": {},
   "outputs": [],
   "source": [
    "def get_image(data, index):\n",
    "    return data.values[index].reshape(28, 28)\n",
    "\n",
    "def plot_image(image):\n",
    "    fig = plt.figure()\n",
    "    ax = fig.add_subplot(1, 1, 1)\n",
    "    im = ax.imshow(image, cmap=\"gray_r\")\n",
    "    fig.colorbar(im)"
   ]
  },
  {
   "cell_type": "code",
   "execution_count": 7,
   "metadata": {},
   "outputs": [
    {
     "name": "stdout",
     "output_type": "stream",
     "text": [
      "7 8 8\n"
     ]
    },
    {
     "data": {
      "image/png": "[encoded data removed]",
      "text/plain": [
       "<Figure size 432x288 with 2 Axes>"
      ]
     },
     "metadata": {
      "needs_background": "light"
     },
     "output_type": "display_data"
    },
    {
     "data": {
      "image/png": "[encoded data removed]",
      "text/plain": [
       "<Figure size 432x288 with 2 Axes>"
      ]
     },
     "metadata": {
      "needs_background": "light"
     },
     "output_type": "display_data"
    },
    {
     "data": {
      "image/png": "[encoded data removed]",
      "text/plain": [
       "<Figure size 432x288 with 2 Axes>"
      ]
     },
     "metadata": {
      "needs_background": "light"
     },
     "output_type": "display_data"
    }
   ],
   "source": [
    "plot_image(get_image(x_mini_test,0))\n",
    "plot_image(get_image(x_mini_test,1000))\n",
    "plot_image(get_image(x_mini_test,1001))\n",
    "test_img_8 = x_mini_test.values[0]\n",
    "test_img_9 = x_mini_test.values[1000]\n",
    "test_img_7 = x_mini_test.values[1001]\n",
    "print(y_test.iloc[0], y_mini_test.iloc[0], y_mini_test.values[1])"
   ]
  },
  {
   "cell_type": "markdown",
   "metadata": {},
   "source": [
    "## 2. Distance functions\n",
    "Для улучшения производительности использовался пакет numba.\n",
    "Реализованы метрики L_1 и L_2"
   ]
  },
  {
   "cell_type": "code",
   "execution_count": 8,
   "metadata": {},
   "outputs": [],
   "source": [
    "from numba import njit, jit, prange\n",
    "from collections import Counter\n",
    "import math\n",
    "\n",
    "@njit(cache=True)\n",
    "def metric_l1(x, y):\n",
    "    return np.sum(np.abs(x-y))\n",
    "\n",
    "@njit(cache=True, nogil=True, parallel=True) \n",
    "def get_dist(metric, x, X_Train):\n",
    "    dist_list = np.zeros(len(X_Train), dtype=np.float32)\n",
    "    if metric == 'euclidean':\n",
    "        #dist_list = np.sqrt(np.sum((X_Train-x)**2, axis=1))\n",
    "        for idx in prange (len(dist_list)):\n",
    "            for a, b in zip(x, X_Train[idx]):\n",
    "                dist_list[idx] += (a-b)*(a-b)\n",
    "                #dist_list[idx] = math.sqrt(dist_list[idx])\n",
    "    elif metric == 'manhattan':\n",
    "        for idx in prange (len(dist_list)):#prange\n",
    "            dist_list[idx] = metric_l1(X_Train[idx], x)\n",
    "    return dist_list\n",
    "\n",
    "@njit(cache=True)\n",
    "def get_kmain(dist_list, k):\n",
    "    k_main = np.zeros(k, dtype=np.int64)#k_main = np.argpartition(dist_list, k)\n",
    "    vmax = np.amax(dist_list)\n",
    "    for i in range(k):\n",
    "        indx = np.argmin(dist_list)\n",
    "        k_main[i] = indx\n",
    "        dist_list[indx] = vmax + 100.0\n",
    "        vmax += 1.0\n",
    "    return k_main\n",
    "\n",
    "def get_counter(Y_Train, kmain):\n",
    "    tmp = [Y_Train[i] for i in kmain]\n",
    "    return Counter(tmp)"
   ]
  },
  {
   "cell_type": "markdown",
   "metadata": {},
   "source": [
    "## 3. kNN classifier implementation"
   ]
  },
  {
   "cell_type": "code",
   "execution_count": 9,
   "metadata": {},
   "outputs": [],
   "source": [
    "class KNeighborsClassifier:\n",
    "    def __init__(self, n_neighbors=5, metric='euclidean', n_classes=10):\n",
    "        self.n_neighbors = n_neighbors\n",
    "        self.metric = metric\n",
    "        self.n_classes = n_classes\n",
    "        \n",
    "    def fit(self, X, Y):\n",
    "        self.X_Train = X.values\n",
    "        self.Y_Train = Y.values\n",
    "        \n",
    "    def predict_proba(self, x):\n",
    "        dist_list = get_dist(self.metric, x, self.X_Train)\n",
    "        k_main = get_kmain(dist_list, self.n_neighbors)\n",
    "        counter = get_counter(self.Y_Train, k_main)\n",
    "        return [counter[x]/self.n_neighbors for x in range(self.n_classes)]\n",
    "        \n",
    "    def _predict(self, x):\n",
    "        dist_list = get_dist(self.metric, x, self.X_Train)\n",
    "        k_main = get_kmain(dist_list, self.n_neighbors)\n",
    "        return get_counter(self.Y_Train, k_main).most_common(1)[0][0]\n",
    "    \n",
    "    def predict(self, X):\n",
    "        return [self._predict(x) for x in X.values]#list(map(self._predict, X.values))"
   ]
  },
  {
   "cell_type": "markdown",
   "metadata": {},
   "source": [
    "## 4. Check correctness"
   ]
  },
  {
   "cell_type": "markdown",
   "metadata": {},
   "source": [
    "### K = 1\n",
    "При k = 1 и евклидовой метрике точность реализованого метода совпадает с точностью knn из sklearn, при тех же параметрах."
   ]
  },
  {
   "cell_type": "code",
   "execution_count": 10,
   "metadata": {},
   "outputs": [],
   "source": [
    "k = 1\n",
    "metr='euclidean'"
   ]
  },
  {
   "cell_type": "code",
   "execution_count": 12,
   "metadata": {},
   "outputs": [
    {
     "name": "stdout",
     "output_type": "stream",
     "text": [
      "--- 34.603232860565186 seconds ---\n",
      "0.0425\n"
     ]
    }
   ],
   "source": [
    "import time\n",
    "start_time = time.time()\n",
    "firsKNN = KNeighborsClassifier(n_neighbors = k, metric=metr)\n",
    "firsKNN.fit(x_mini_train, y_mini_train)\n",
    "mini_predict = firsKNN.predict(x_mini_test)\n",
    "print(\"--- %s seconds ---\" % (time.time() - start_time))\n",
    "\n",
    "err_test_mini = np.mean(y_mini_test != mini_predict)\n",
    "print(err_test_mini)"
   ]
  },
  {
   "cell_type": "code",
   "execution_count": 13,
   "metadata": {},
   "outputs": [
    {
     "name": "stdout",
     "output_type": "stream",
     "text": [
      "--- 5.633469820022583 seconds ---\n",
      "0.0425\n"
     ]
    }
   ],
   "source": [
    "from sklearn.neighbors import KNeighborsClassifier as KNN \n",
    "\n",
    "knn = KNN(n_neighbors = k, metric=metr, n_jobs = 8)\n",
    "knn.fit(x_mini_train, y_mini_train)\n",
    "start_time = time.time()\n",
    "mini_predict = knn.predict(x_mini_test)\n",
    "print(\"--- %s seconds ---\" % (time.time() - start_time))\n",
    "err_test_mini = np.mean(y_mini_test != mini_predict)\n",
    "print(err_test_mini)"
   ]
  },
  {
   "cell_type": "markdown",
   "metadata": {},
   "source": [
    "### K = 5\n",
    "При k = 5 и евклидовой метрике точность реализованого метода совпадает с точностью knn из sklearn, при тех же параметрах. Также совпадают результаты метода predic_proba."
   ]
  },
  {
   "cell_type": "code",
   "execution_count": 14,
   "metadata": {},
   "outputs": [],
   "source": [
    "k = 5"
   ]
  },
  {
   "cell_type": "code",
   "execution_count": 15,
   "metadata": {},
   "outputs": [
    {
     "name": "stdout",
     "output_type": "stream",
     "text": [
      "--- 43.46285128593445 seconds ---\n",
      "0.0385\n"
     ]
    }
   ],
   "source": [
    "start_time = time.time()\n",
    "firsKNN = KNeighborsClassifier(n_neighbors=k, metric=metr)\n",
    "firsKNN.fit(x_mini_train, y_mini_train)\n",
    "mini_predict = firsKNN.predict(x_mini_test)\n",
    "print(\"--- %s seconds ---\" % (time.time() - start_time))\n",
    "err_test_mini = np.mean(y_mini_test != mini_predict)\n",
    "print(err_test_mini)"
   ]
  },
  {
   "cell_type": "code",
   "execution_count": 16,
   "metadata": {},
   "outputs": [
    {
     "name": "stdout",
     "output_type": "stream",
     "text": [
      "[0.0, 0.0, 0.0, 0.0, 0.2, 0.0, 0.0, 0.8, 0.0, 0.0]\n",
      "[0.  0.  0.  0.  0.2 0.  0.  0.8 0.  0. ]\n",
      "True\n",
      "[0.0, 0.0, 0.0, 0.0, 0.0, 0.0, 0.0, 0.0, 1.0, 0.0]\n",
      "[0. 0. 0. 0. 0. 0. 0. 0. 1. 0.]\n",
      "True\n",
      "[0.0, 0.0, 0.0, 0.0, 0.0, 0.0, 0.0, 0.0, 0.0, 1.0]\n",
      "[0. 0. 0. 0. 0. 0. 0. 0. 0. 1.]\n",
      "True\n"
     ]
    }
   ],
   "source": [
    "knn = KNN(n_neighbors = k, metric=metr, n_jobs = 8)\n",
    "knn.fit(x_mini_train, y_mini_train)\n",
    "\n",
    "mini_proba1 = firsKNN.predict_proba(test_img_7)\n",
    "print(mini_proba1)\n",
    "mini_proba2 = knn.predict_proba([test_img_7])\n",
    "print(mini_proba2[0])\n",
    "print(np.array_equal(mini_proba1, mini_proba2[0]))\n",
    "\n",
    "\n",
    "mini_proba1 = firsKNN.predict_proba(test_img_8)\n",
    "print(mini_proba1)\n",
    "mini_proba2 = knn.predict_proba([test_img_8])\n",
    "print(mini_proba2[0])\n",
    "print(np.array_equal(mini_proba1, mini_proba2[0]))\n",
    "\n",
    "\n",
    "mini_proba1 = firsKNN.predict_proba(test_img_9)\n",
    "print(mini_proba1)\n",
    "mini_proba2 = knn.predict_proba([test_img_9])\n",
    "print(mini_proba2[0])\n",
    "print(np.array_equal(mini_proba1, mini_proba2[0]))\n"
   ]
  },
  {
   "cell_type": "markdown",
   "metadata": {},
   "source": [
    "## 5. Define features\n",
    "1. Текст на картинке удобно бинаризировать, посмотрим как на это отреагирует knn\n",
    "2. Попробуем посчитать \"vertical and horizontal projection histogram\" результат и в качестве фичи добавить к данным"
   ]
  },
  {
   "cell_type": "code",
   "execution_count": 17,
   "metadata": {},
   "outputs": [],
   "source": [
    "def tobin(val, threshold = 8):\n",
    "    if val >= threshold:\n",
    "        return 1\n",
    "    return 0\n",
    "f_tobin = np.vectorize(tobin)\n",
    "bin_x_mini_train = pd.DataFrame(f_tobin(x_mini_train.values))\n",
    "bin_x_mini_test = pd.DataFrame(f_tobin(x_mini_test.values))\n",
    "test_img_bin = bin_x_mini_test.values[0]"
   ]
  },
  {
   "cell_type": "code",
   "execution_count": 18,
   "metadata": {},
   "outputs": [],
   "source": [
    "coeff = 6\n",
    "def hor(x):\n",
    "    return x.reshape(28, 28).sum(axis=1) // coeff\n",
    "\n",
    "def ver(x):\n",
    "    return x.reshape(28, 28).sum(axis=0) // coeff\n",
    "n = 28 + 28 + 784\n",
    "bin_train_features = pd.DataFrame(np.zeros(shape=(len(bin_x_mini_train), n), dtype=np.int64), columns = range(n), )\n",
    "bin_test_features = pd.DataFrame(np.zeros(shape=(len(bin_x_mini_test), n), dtype=np.int64), columns = range(n))\n",
    "\n",
    "train_features = pd.DataFrame(np.zeros(shape=(len(bin_x_mini_train), n), dtype=np.int64), columns = range(n), )\n",
    "test_features = pd.DataFrame(np.zeros(shape=(len(bin_x_mini_test), n), dtype=np.int64), columns = range(n))\n",
    "\n",
    "def add_features(features, X):\n",
    "    for i in range(len(X)):\n",
    "        res = X.values[i]\n",
    "        features.values[i] = np.concatenate((res, hor(res), ver(res)))\n",
    "add_features(bin_train_features, bin_x_mini_train)\n",
    "add_features(bin_test_features, bin_x_mini_test)\n",
    "\n",
    "add_features(train_features, x_mini_train)\n",
    "add_features(test_features, x_mini_test)"
   ]
  },
  {
   "cell_type": "markdown",
   "metadata": {},
   "source": [
    "## 6. Find hyper-parameters"
   ]
  },
  {
   "cell_type": "code",
   "execution_count": 19,
   "metadata": {},
   "outputs": [],
   "source": [
    "k = 1\n",
    "metr='manhattan'"
   ]
  },
  {
   "cell_type": "code",
   "execution_count": 20,
   "metadata": {},
   "outputs": [
    {
     "name": "stdout",
     "output_type": "stream",
     "text": [
      "--- 22.78796672821045 seconds ---\n",
      "0.0455\n"
     ]
    }
   ],
   "source": [
    "start_time = time.time()\n",
    "firsKNN = KNeighborsClassifier(n_neighbors=k, metric=metr)\n",
    "firsKNN.fit(bin_x_mini_train, y_mini_train)\n",
    "mini_predict = firsKNN.predict(bin_x_mini_test)\n",
    "print(\"--- %s seconds ---\" % (time.time() - start_time))\n",
    "err_test_mini = np.mean(y_mini_test != mini_predict)\n",
    "print(err_test_mini)"
   ]
  },
  {
   "cell_type": "code",
   "execution_count": 21,
   "metadata": {},
   "outputs": [],
   "source": [
    "k = 5\n",
    "metr='manhattan'"
   ]
  },
  {
   "cell_type": "code",
   "execution_count": 22,
   "metadata": {},
   "outputs": [
    {
     "name": "stdout",
     "output_type": "stream",
     "text": [
      "--- 21.77993679046631 seconds ---\n",
      "0.0405\n"
     ]
    }
   ],
   "source": [
    "start_time = time.time()\n",
    "firsKNN = KNeighborsClassifier(n_neighbors=k, metric=metr)\n",
    "firsKNN.fit(bin_x_mini_train, y_mini_train)\n",
    "mini_predict = firsKNN.predict(bin_x_mini_test)\n",
    "print(\"--- %s seconds ---\" % (time.time() - start_time))\n",
    "err_test_mini = np.mean(y_mini_test != mini_predict)\n",
    "print(err_test_mini)"
   ]
  },
  {
   "cell_type": "code",
   "execution_count": 23,
   "metadata": {},
   "outputs": [],
   "source": [
    "k = 6\n",
    "metr='euclidean'#manhattan"
   ]
  },
  {
   "cell_type": "code",
   "execution_count": 24,
   "metadata": {},
   "outputs": [
    {
     "name": "stdout",
     "output_type": "stream",
     "text": [
      "--- 7.162691354751587 seconds ---\n",
      "0.035\n"
     ]
    }
   ],
   "source": [
    "start_time = time.time()\n",
    "fknn = KNeighborsClassifier(n_neighbors=k, metric=metr)\n",
    "fknn.fit(train_features, y_mini_train)\n",
    "mini_predict = fknn.predict(test_features)\n",
    "print(\"--- %s seconds ---\" % (time.time() - start_time))\n",
    "err_test_mini = np.mean(y_mini_test != mini_predict)\n",
    "print(err_test_mini)"
   ]
  },
  {
   "cell_type": "markdown",
   "metadata": {},
   "source": [
    "### 6.1 Using full training dataset"
   ]
  },
  {
   "cell_type": "code",
   "execution_count": 25,
   "metadata": {},
   "outputs": [],
   "source": [
    "res_train_features = pd.DataFrame(np.zeros(shape=(len(data_train), n), dtype=np.int64), columns = range(n), )\n",
    "res_test_features = pd.DataFrame(np.zeros(shape=(len(data_test), n), dtype=np.int64), columns = range(n))\n",
    "add_features(res_train_features, x_train)\n",
    "add_features(res_test_features, x_test)"
   ]
  },
  {
   "cell_type": "code",
   "execution_count": 26,
   "metadata": {},
   "outputs": [
    {
     "name": "stdout",
     "output_type": "stream",
     "text": [
      "--- 100.75783729553223 seconds ---\n",
      "0.0291\n"
     ]
    }
   ],
   "source": [
    "start_time = time.time()\n",
    "fknn = KNeighborsClassifier(n_neighbors=k, metric=metr)\n",
    "fknn.fit(res_train_features, y_train)\n",
    "predict = fknn.predict(res_test_features)\n",
    "print(\"--- %s seconds ---\" % (time.time() - start_time))\n",
    "err_test_mini = np.mean(y_test != predict)\n",
    "print(err_test_mini)"
   ]
  },
  {
   "cell_type": "code",
   "execution_count": 27,
   "metadata": {},
   "outputs": [
    {
     "name": "stdout",
     "output_type": "stream",
     "text": [
      "--- 631.5681538581848 seconds ---\n",
      "0.015166666666666667\n"
     ]
    }
   ],
   "source": [
    "start_time = time.time()\n",
    "predict = fknn.predict(res_train_features)\n",
    "print(\"--- %s seconds ---\" % (time.time() - start_time))\n",
    "err_test_mini = np.mean(y_train != predict)\n",
    "print(err_test_mini)"
   ]
  },
  {
   "cell_type": "markdown",
   "metadata": {},
   "source": [
    "## 7. Results\n",
    "1. k: 6\n",
    "2. Distance function: euclidean\n",
    "3. Features: Projection Histograms\n",
    "\n",
    "### The best model test accuracy:\n",
    "Test: 97.09%\n",
    "\n",
    "Train: 98.48%\n",
    "###  Why such model parameters are the best?\n",
    "\n",
    "В данной работе наименьшая ошибка получилась равной 2.91%. Данный результат был достигнут с евклидовой метрикой, числом соседей k = 6, с добавлением фичи Projection Histograms. При использовании других параметров или бинаризации изображения, ошибка была больше. Для улучшения результата имеет смысл попробовать другие фичи, а также поэксперементировать с предообработкой данных."
   ]
  }
 ],
 "metadata": {
  "kernelspec": {
   "display_name": "Python 3",
   "language": "python",
   "name": "python3"
  },
  "language_info": {
   "codemirror_mode": {
    "name": "ipython",
    "version": 3
   },
   "file_extension": ".py",
   "mimetype": "text/x-python",
   "name": "python",
   "nbconvert_exporter": "python",
   "pygments_lexer": "ipython3",
   "version": "3.8.6"
  }
 },
 "nbformat": 4,
 "nbformat_minor": 4
}
