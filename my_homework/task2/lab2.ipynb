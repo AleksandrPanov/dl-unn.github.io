{
 "cells": [
  {
   "cell_type": "code",
   "execution_count": 135,
   "metadata": {},
   "outputs": [],
   "source": [
    "import sys\n",
    "import math\n",
    "import tensorflow as tf\n",
    "import numba as nb\n",
    "from numba import njit, prange\n",
    "import numpy as np\n",
    "from numpy.random import rand\n",
    "import matplotlib.pyplot as plt"
   ]
  },
  {
   "cell_type": "code",
   "execution_count": 201,
   "metadata": {},
   "outputs": [],
   "source": [
    "@njit(cache=True, parallel=True)\n",
    "def mult(bs, x, y, res):\n",
    "    n = len(x[0])\n",
    "    m = len(y[0])\n",
    "    for b in range(bs):\n",
    "        for i in prange(n):\n",
    "            for j in range(m):\n",
    "                res[i,j] += x[b,i]*y[b,j]\n",
    "\n",
    "class Sigmoid:\n",
    "    def calc(self, X):\n",
    "        self.sigmoid = 1.0/(1.0+np.exp(-X))\n",
    "        return self.sigmoid#[:] return copy\n",
    "    def grad(self, vec_top_grad):\n",
    "        return vec_top_grad*self.sigmoid*(1.0-self.sigmoid)\n",
    "\n",
    "class LeakyReLU:\n",
    "    def __init__(self):\n",
    "        self.alpha = 0.1\n",
    "    def calc(self, X):\n",
    "        self.LeakyReLU = np.where(X>0,X, self.alpha*X)\n",
    "        return self.LeakyReLU#[:] return copy\n",
    "    def grad(self, vec_top_grad):\n",
    "        return vec_top_grad*np.where(self.LeakyReLU>0, 1.0, self.alpha)\n",
    "    \n",
    "class SoftMax:\n",
    "    def __init__(self, n, self.ba):\n",
    "        self.n = n\n",
    "        self.tmp = np.empty((n,n), dtype='float32')\n",
    "        self.softmax = np.empty(n, dtype='float32')\n",
    "    def calc(self, X):\n",
    "        #print('x in softmax', max(X))\n",
    "        self.softmax = np.exp(X)\n",
    "        self.softmax /= np.sum(self.softmax)\n",
    "        return self.softmax\n",
    "    def grad(self, vec_top_grad):\n",
    "        mult(-self.softmax, self.softmax, self.tmp)\n",
    "        self.tmp[np.diag_indices_from(self.tmp)] += self.softmax#*(1.0-self.softmax)\n",
    "        return np.dot(vec_top_grad, self.tmp)\n",
    "    \n",
    "def initW(n_input, n_output): # Xavier init\n",
    "    tmp1 = np.random.normal(0.0, 2.0/(n_input+n_output), size=n_input*n_output)\n",
    "    tmp1 = tmp1.reshape(n_input,n_output).astype('float32')\n",
    "    tmp2 = np.random.normal(0.0, 2.0/(n_output+n_output), size=n_output).astype('float32')\n",
    "    return tmp1, tmp2"
   ]
  },
  {
   "cell_type": "code",
   "execution_count": 188,
   "metadata": {},
   "outputs": [],
   "source": [
    "class CrossEntropy:\n",
    "    def __init__(self, num_classes, batch = 1, eps = 1e-6):\n",
    "        self.num_classes = num_classes\n",
    "        self.drop_grad = np.zeros((batch, num_classes), dtype='float32')\n",
    "        self.batch = batch\n",
    "        self.eps = eps\n",
    "    def calc(self, X, labels):\n",
    "        self.X = X\n",
    "        cross = 0.0\n",
    "        for i in range(len(labels)):\n",
    "            self.X[i,labels[i]] = X[i,labels[i]].clip(min=self.eps, max=1.0)\n",
    "            cross -= np.log(self.X[i,labels[i]])\n",
    "        return cross / len(labels)\n",
    "    def grad(self, labels):\n",
    "        self.drop_grad.fill(0.0)\n",
    "        for i in range(len(labels)):\n",
    "            self.drop_grad[i, labels[i]] = -1.0/self.X[i, labels[i]]\n",
    "        return self.drop_grad\n",
    "\n",
    "class Net:\n",
    "    const_coeff = 0.1\n",
    "    coeff = 0.1\n",
    "    def __init__(self, layers, num_classes, batch = 1):\n",
    "        self.layers = layers\n",
    "        self.n_layers = len(layers)\n",
    "        self.cross = CrossEntropy(num_classes, batch)\n",
    "        self.batch = batch\n",
    "    def calc(self, x):\n",
    "        res = None\n",
    "        for layer in self.layers:\n",
    "            res = layer.calc(x)\n",
    "            x = res\n",
    "        return res\n",
    "    def get_class(self, x):\n",
    "        res = self.calc(x)\n",
    "        return np.argmax(res), res\n",
    "    def fit(self, X, Y, n):\n",
    "        Net.coeff = Net.const_coeff\n",
    "        loss = np.zeros(shape=(n, len(Y)), dtype='float32')\n",
    "        for it in range(n):\n",
    "            print('EPOCH',it+1)\n",
    "            for i in range(0, len(Y), self.batch):\n",
    "                res = self.calc(X[i:i+self.batch])\n",
    "                # cross res\n",
    "                loss[it, i] = self.cross.calc(res, Y[i:i+self.batch])\n",
    "                gr = self.cross.grad(Y[i:i+self.batch])\n",
    "                for layer in reversed(self.layers):\n",
    "                    gr = layer.grad(gr)\n",
    "            Net.coeff *= 0.90\n",
    "        return loss.flatten()\n",
    "                "
   ]
  },
  {
   "cell_type": "code",
   "execution_count": 233,
   "metadata": {},
   "outputs": [],
   "source": [
    "class FullConnected:\n",
    "    def __init__(self, W, b, batch=1):\n",
    "        self.W = W\n",
    "        self.b = b\n",
    "        self.batch = 1\n",
    "        self.n_input = len(W)\n",
    "        self.n_output = len(b)\n",
    "        self.new_grad = np.zeros((self.n_input,self.n_output), dtype='float32')\n",
    "        self.res = np.zeros(self.n_output, dtype='float32')\n",
    "    def calc(self, x):\n",
    "        self.x = x#[:] copy\n",
    "        #vec(x)*matr(W)=vec(y)\n",
    "        self.res = np.dot(x, self.W)# матрица из batch строк и output cтолбцов\n",
    "        self.res += self.b\n",
    "        #print('max W, b, res',np.max(self.W), np.max(self.b), np.max(self.res))\n",
    "        return self.res\n",
    "    def grad(self, vec_top_grad):\n",
    "        # поиск производной выхода y по входу x: d(y)/d(x)\n",
    "        next_grad = np.matmul(self.W, vec_top_grad.T).T #порядок умножения?\n",
    "        \n",
    "        # поиск производной по W\n",
    "        self.new_grad.fill(0.0)\n",
    "        mult(self.batch, self.x, vec_top_grad, self.new_grad)\n",
    "        self.W -= Net.coeff*self.new_grad #Net.coef коэффициент градиентного спуска\n",
    "        \n",
    "        # поиск производной по b\n",
    "        self.b -= Net.coeff*vec_top_grad[:].sum(axis=0)\n",
    "        return next_grad"
   ]
  },
  {
   "cell_type": "code",
   "execution_count": 5,
   "metadata": {},
   "outputs": [],
   "source": [
    "import pickle\n",
    "def unpickle(file):\n",
    "    with open(file, 'rb') as fo:\n",
    "        dict = pickle.load(fo, encoding='bytes')\n",
    "    return dict\n",
    "data = unpickle('data/data_batch_1')"
   ]
  },
  {
   "cell_type": "code",
   "execution_count": 6,
   "metadata": {},
   "outputs": [
    {
     "name": "stdout",
     "output_type": "stream",
     "text": [
      "dict_keys([b'batch_label', b'labels', b'data', b'filenames'])\n",
      "10000\n",
      "3072\n",
      "<class 'numpy.ndarray'>\n"
     ]
    }
   ],
   "source": [
    "from PIL import Image\n",
    "print(data.keys())\n",
    "start, end = 2, 23\n",
    "img_ars = data[b'data'][start:end]\n",
    "img_labels = data[b'labels'][start:end]\n",
    "print(len(data[b'labels']))\n",
    "print(len(img_ars[0]))\n",
    "print(type(img_ars[0]))\n",
    "img_ars = img_ars\n",
    "for img_ar,i in zip(img_ars, range(start,end)):\n",
    "    img = Image.fromarray(np.transpose(np.reshape(img_ar,(3, 32,32)), (1,2,0)), 'RGB')\n",
    "    #img.save(str(i)+'.png')\n",
    "#print(img_labels)"
   ]
  },
  {
   "attachments": {
    "1.png": {
     "image/png": "[encoded data removed]"
    }
   },
   "cell_type": "markdown",
   "metadata": {},
   "source": [
    "![1.png](attachment:1.png)"
   ]
  },
  {
   "attachments": {
    "2.png": {
     "image/png": "[encoded data removed]"
    }
   },
   "cell_type": "markdown",
   "metadata": {},
   "source": [
    "![2.png](attachment:2.png)"
   ]
  },
  {
   "cell_type": "code",
   "execution_count": 8,
   "metadata": {},
   "outputs": [
    {
     "name": "stdout",
     "output_type": "stream",
     "text": [
      "EPOCH 1\n",
      "EPOCH 2\n",
      "EPOCH 3\n",
      "EPOCH 4\n",
      "EPOCH 5\n",
      "EPOCH 6\n",
      "EPOCH 7\n",
      "EPOCH 8\n",
      "EPOCH 9\n",
      "EPOCH 10\n",
      "EPOCH 11\n",
      "EPOCH 12\n",
      "EPOCH 13\n",
      "EPOCH 14\n",
      "EPOCH 15\n",
      "EPOCH 16\n",
      "EPOCH 17\n",
      "EPOCH 18\n",
      "EPOCH 19\n",
      "EPOCH 20\n",
      "EPOCH 21\n",
      "EPOCH 22\n",
      "EPOCH 23\n",
      "EPOCH 24\n",
      "EPOCH 25\n",
      "EPOCH 26\n",
      "EPOCH 27\n",
      "EPOCH 28\n",
      "EPOCH 29\n",
      "EPOCH 30\n",
      "EPOCH 31\n",
      "EPOCH 32\n",
      "EPOCH 33\n",
      "EPOCH 34\n",
      "EPOCH 35\n",
      "EPOCH 36\n",
      "EPOCH 37\n",
      "EPOCH 38\n",
      "EPOCH 39\n",
      "EPOCH 40\n",
      "0.13545305\n",
      "9 9\n",
      "4 4\n",
      "1 1\n",
      "1 1\n",
      "2 2\n",
      "7 7\n",
      "8 8\n",
      "3 3\n",
      "4 4\n",
      "7 7\n",
      "7 7\n",
      "2 2\n",
      "9 9\n",
      "9 9\n",
      "9 9\n",
      "3 3\n",
      "2 2\n",
      "6 6\n",
      "4 4\n",
      "3 3\n",
      "6 6\n"
     ]
    },
    {
     "data": {
      "image/png": "[encoded data removed]",
      "text/plain": [
       "<Figure size 432x288 with 1 Axes>"
      ]
     },
     "metadata": {
      "needs_background": "light"
     },
     "output_type": "display_data"
    }
   ],
   "source": [
    "num_classes = 10\n",
    "n_input = len(img_ars[0])\n",
    "np.random.seed(0)\n",
    "\n",
    "cross = CrossEntropy(num_classes)\n",
    "x = (img_ars/255.0).astype('float32')\n",
    "labels = img_labels\n",
    "#print(labels)\n",
    "l1 = FullConnected(*initW(n_input, 192))\n",
    "leakyReLU = LeakyReLU()\n",
    "l2 = FullConnected(*initW(192, num_classes))\n",
    "softmax = SoftMax(num_classes)\n",
    "\n",
    "net = Net([l1, leakyReLU, l2, softmax],num_classes)\n",
    "loss = net.fit(x, labels, 40)\n",
    "print(loss[-1])\n",
    "plt.plot(loss)\n",
    "for i in range(len(x)):\n",
    "    calc_class, res = net.get_class(x[i])\n",
    "    print(labels[i], calc_class)\n",
    "    #print(res)"
   ]
  },
  {
   "cell_type": "code",
   "execution_count": 236,
   "metadata": {},
   "outputs": [
    {
     "name": "stdout",
     "output_type": "stream",
     "text": [
      "EPOCH 1\n"
     ]
    },
    {
     "ename": "TypeError",
     "evalue": "not enough arguments: expected 4, got 3",
     "output_type": "error",
     "traceback": [
      "\u001b[1;31m---------------------------------------------------------------------------\u001b[0m",
      "\u001b[1;31mTypeError\u001b[0m                                 Traceback (most recent call last)",
      "\u001b[1;32m<ipython-input-236-c7e29f46d26d>\u001b[0m in \u001b[0;36m<module>\u001b[1;34m\u001b[0m\n\u001b[0;32m     14\u001b[0m \u001b[1;33m\u001b[0m\u001b[0m\n\u001b[0;32m     15\u001b[0m \u001b[0mnet\u001b[0m \u001b[1;33m=\u001b[0m \u001b[0mNet\u001b[0m\u001b[1;33m(\u001b[0m\u001b[1;33m[\u001b[0m\u001b[0ml1\u001b[0m\u001b[1;33m,\u001b[0m \u001b[0mleakyReLU\u001b[0m\u001b[1;33m,\u001b[0m \u001b[0ml2\u001b[0m\u001b[1;33m,\u001b[0m \u001b[0msoftmax\u001b[0m\u001b[1;33m]\u001b[0m\u001b[1;33m,\u001b[0m\u001b[0mnum_classes\u001b[0m\u001b[1;33m,\u001b[0m \u001b[0mbatch\u001b[0m\u001b[1;33m)\u001b[0m\u001b[1;33m\u001b[0m\u001b[1;33m\u001b[0m\u001b[0m\n\u001b[1;32m---> 16\u001b[1;33m \u001b[0mloss\u001b[0m \u001b[1;33m=\u001b[0m \u001b[0mnet\u001b[0m\u001b[1;33m.\u001b[0m\u001b[0mfit\u001b[0m\u001b[1;33m(\u001b[0m\u001b[0mx\u001b[0m\u001b[1;33m,\u001b[0m \u001b[0mlabels\u001b[0m\u001b[1;33m,\u001b[0m \u001b[1;36m1\u001b[0m\u001b[1;33m)\u001b[0m\u001b[1;33m\u001b[0m\u001b[1;33m\u001b[0m\u001b[0m\n\u001b[0m\u001b[0;32m     17\u001b[0m \u001b[1;31m#print(loss[-1])\u001b[0m\u001b[1;33m\u001b[0m\u001b[1;33m\u001b[0m\u001b[1;33m\u001b[0m\u001b[0m\n\u001b[0;32m     18\u001b[0m \u001b[0mnet\u001b[0m\u001b[1;33m.\u001b[0m\u001b[0mget_class\u001b[0m\u001b[1;33m(\u001b[0m\u001b[0mx\u001b[0m\u001b[1;33m[\u001b[0m\u001b[1;36m0\u001b[0m\u001b[1;33m]\u001b[0m\u001b[1;33m)\u001b[0m\u001b[1;33m\u001b[0m\u001b[1;33m\u001b[0m\u001b[0m\n",
      "\u001b[1;32m<ipython-input-188-7392d79053d0>\u001b[0m in \u001b[0;36mfit\u001b[1;34m(self, X, Y, n)\u001b[0m\n\u001b[0;32m     46\u001b[0m                 \u001b[0mgr\u001b[0m \u001b[1;33m=\u001b[0m \u001b[0mself\u001b[0m\u001b[1;33m.\u001b[0m\u001b[0mcross\u001b[0m\u001b[1;33m.\u001b[0m\u001b[0mgrad\u001b[0m\u001b[1;33m(\u001b[0m\u001b[0mY\u001b[0m\u001b[1;33m[\u001b[0m\u001b[0mi\u001b[0m\u001b[1;33m:\u001b[0m\u001b[0mi\u001b[0m\u001b[1;33m+\u001b[0m\u001b[0mself\u001b[0m\u001b[1;33m.\u001b[0m\u001b[0mbatch\u001b[0m\u001b[1;33m]\u001b[0m\u001b[1;33m)\u001b[0m\u001b[1;33m\u001b[0m\u001b[1;33m\u001b[0m\u001b[0m\n\u001b[0;32m     47\u001b[0m                 \u001b[1;32mfor\u001b[0m \u001b[0mlayer\u001b[0m \u001b[1;32min\u001b[0m \u001b[0mreversed\u001b[0m\u001b[1;33m(\u001b[0m\u001b[0mself\u001b[0m\u001b[1;33m.\u001b[0m\u001b[0mlayers\u001b[0m\u001b[1;33m)\u001b[0m\u001b[1;33m:\u001b[0m\u001b[1;33m\u001b[0m\u001b[1;33m\u001b[0m\u001b[0m\n\u001b[1;32m---> 48\u001b[1;33m                     \u001b[0mgr\u001b[0m \u001b[1;33m=\u001b[0m \u001b[0mlayer\u001b[0m\u001b[1;33m.\u001b[0m\u001b[0mgrad\u001b[0m\u001b[1;33m(\u001b[0m\u001b[0mgr\u001b[0m\u001b[1;33m)\u001b[0m\u001b[1;33m\u001b[0m\u001b[1;33m\u001b[0m\u001b[0m\n\u001b[0m\u001b[0;32m     49\u001b[0m             \u001b[0mNet\u001b[0m\u001b[1;33m.\u001b[0m\u001b[0mcoeff\u001b[0m \u001b[1;33m*=\u001b[0m \u001b[1;36m0.90\u001b[0m\u001b[1;33m\u001b[0m\u001b[1;33m\u001b[0m\u001b[0m\n\u001b[0;32m     50\u001b[0m         \u001b[1;32mreturn\u001b[0m \u001b[0mloss\u001b[0m\u001b[1;33m.\u001b[0m\u001b[0mflatten\u001b[0m\u001b[1;33m(\u001b[0m\u001b[1;33m)\u001b[0m\u001b[1;33m\u001b[0m\u001b[1;33m\u001b[0m\u001b[0m\n",
      "\u001b[1;32m<ipython-input-201-2809365a7fe8>\u001b[0m in \u001b[0;36mgrad\u001b[1;34m(self, vec_top_grad)\u001b[0m\n\u001b[0;32m     35\u001b[0m         \u001b[1;32mreturn\u001b[0m \u001b[0mself\u001b[0m\u001b[1;33m.\u001b[0m\u001b[0msoftmax\u001b[0m\u001b[1;33m\u001b[0m\u001b[1;33m\u001b[0m\u001b[0m\n\u001b[0;32m     36\u001b[0m     \u001b[1;32mdef\u001b[0m \u001b[0mgrad\u001b[0m\u001b[1;33m(\u001b[0m\u001b[0mself\u001b[0m\u001b[1;33m,\u001b[0m \u001b[0mvec_top_grad\u001b[0m\u001b[1;33m)\u001b[0m\u001b[1;33m:\u001b[0m\u001b[1;33m\u001b[0m\u001b[1;33m\u001b[0m\u001b[0m\n\u001b[1;32m---> 37\u001b[1;33m         \u001b[0mmult\u001b[0m\u001b[1;33m(\u001b[0m\u001b[1;33m-\u001b[0m\u001b[0mself\u001b[0m\u001b[1;33m.\u001b[0m\u001b[0msoftmax\u001b[0m\u001b[1;33m,\u001b[0m \u001b[0mself\u001b[0m\u001b[1;33m.\u001b[0m\u001b[0msoftmax\u001b[0m\u001b[1;33m,\u001b[0m \u001b[0mself\u001b[0m\u001b[1;33m.\u001b[0m\u001b[0mtmp\u001b[0m\u001b[1;33m)\u001b[0m\u001b[1;33m\u001b[0m\u001b[1;33m\u001b[0m\u001b[0m\n\u001b[0m\u001b[0;32m     38\u001b[0m         \u001b[0mself\u001b[0m\u001b[1;33m.\u001b[0m\u001b[0mtmp\u001b[0m\u001b[1;33m[\u001b[0m\u001b[0mnp\u001b[0m\u001b[1;33m.\u001b[0m\u001b[0mdiag_indices_from\u001b[0m\u001b[1;33m(\u001b[0m\u001b[0mself\u001b[0m\u001b[1;33m.\u001b[0m\u001b[0mtmp\u001b[0m\u001b[1;33m)\u001b[0m\u001b[1;33m]\u001b[0m \u001b[1;33m+=\u001b[0m \u001b[0mself\u001b[0m\u001b[1;33m.\u001b[0m\u001b[0msoftmax\u001b[0m\u001b[1;31m#*(1.0-self.softmax)\u001b[0m\u001b[1;33m\u001b[0m\u001b[1;33m\u001b[0m\u001b[0m\n\u001b[0;32m     39\u001b[0m         \u001b[1;32mreturn\u001b[0m \u001b[0mnp\u001b[0m\u001b[1;33m.\u001b[0m\u001b[0mdot\u001b[0m\u001b[1;33m(\u001b[0m\u001b[0mvec_top_grad\u001b[0m\u001b[1;33m,\u001b[0m \u001b[0mself\u001b[0m\u001b[1;33m.\u001b[0m\u001b[0mtmp\u001b[0m\u001b[1;33m)\u001b[0m\u001b[1;33m\u001b[0m\u001b[1;33m\u001b[0m\u001b[0m\n",
      "\u001b[1;31mTypeError\u001b[0m: not enough arguments: expected 4, got 3"
     ]
    }
   ],
   "source": [
    "num_classes = 10\n",
    "n_input = len(img_ars[0])\n",
    "np.random.seed(0)\n",
    "batch = 1\n",
    "\n",
    "cross = CrossEntropy(num_classes)\n",
    "x = (img_ars/255.0).astype('float32')\n",
    "labels = img_labels\n",
    "#print(labels)\n",
    "l1 = FullConnected(*initW(n_input, 192))\n",
    "leakyReLU = LeakyReLU()\n",
    "l2 = FullConnected(*initW(192, num_classes))\n",
    "softmax = SoftMax(num_classes)\n",
    "\n",
    "net = Net([l1, leakyReLU, l2, softmax],num_classes, batch)\n",
    "loss = net.fit(x, labels, 1)\n",
    "#print(loss[-1])\n",
    "net.get_class(x[0])"
   ]
  }
 ],
 "metadata": {
  "kernelspec": {
   "display_name": "Python 3",
   "language": "python",
   "name": "python3"
  },
  "language_info": {
   "codemirror_mode": {
    "name": "ipython",
    "version": 3
   },
   "file_extension": ".py",
   "mimetype": "text/x-python",
   "name": "python",
   "nbconvert_exporter": "python",
   "pygments_lexer": "ipython3",
   "version": "3.8.6"
  }
 },
 "nbformat": 4,
 "nbformat_minor": 4
}
