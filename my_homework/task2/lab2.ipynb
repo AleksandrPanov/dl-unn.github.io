{
 "cells": [
  {
   "cell_type": "code",
   "execution_count": 1,
   "metadata": {},
   "outputs": [],
   "source": [
    "import math\n",
    "import tensorflow as tf\n",
    "import numba as nb\n",
    "from numba import njit, prange\n",
    "import numpy as np\n",
    "from numpy.random import rand"
   ]
  },
  {
   "cell_type": "code",
   "execution_count": 88,
   "metadata": {},
   "outputs": [],
   "source": [
    "@njit(cache=True, parallel=True)\n",
    "def mult(a, b, res):\n",
    "    n = len(a)\n",
    "    m = len(b)\n",
    "    for i in prange(n):\n",
    "        for j in range(m):\n",
    "            res[i,j] = a[i]*b[j]\n",
    "\n",
    "class Sigmoid:\n",
    "    def calc(self, X):\n",
    "        self.sigmoid = 1.0/(1.0+np.exp(-X))\n",
    "        return self.sigmoid[:] # return copy\n",
    "    def grad(self, vec_top_grad):\n",
    "        return vec_top_grad*self.sigmoid*(1.0-self.sigmoid)\n",
    "\n",
    "class LeakyReLU:\n",
    "    def __init__(self):\n",
    "        self.alpha = 0.1\n",
    "    def calc(self, X):\n",
    "        self.LeakyReLU = np.where(X>0,X, self.alpha*X)\n",
    "        return self.LeakyReLU[:] # return copy\n",
    "    def grad(self, vec_top_grad):\n",
    "        return vec_top_grad*np.where(self.LeakyReLU>0, 1.0, self.alpha)\n",
    "    \n",
    "def initW(n_input, n_output): # Xavier init\n",
    "    tmp1 = np.random.normal(0.0, 2.0/(n_input+n_output), size=n_input*n_output)\n",
    "    tmp1 = tmp1.reshape(n_input,n_output).astype('float32')\n",
    "    tmp2 = np.random.normal(0.0, 2.0/(n_output+n_output), size=n_output).astype('float32')\n",
    "    return tmp1, tmp2"
   ]
  },
  {
   "cell_type": "code",
   "execution_count": 86,
   "metadata": {},
   "outputs": [],
   "source": [
    "class CrossEntropy:\n",
    "    def __init__(self, num_classes, batch = 1, eps = 1e-6):\n",
    "        self.num_classes = num_classes\n",
    "        self.drop_grad = np.zeros(self.num_classes, dtype='float32')\n",
    "        self.batch = batch\n",
    "        self.eps = eps\n",
    "    def calc(self, X, label):\n",
    "        self.X = X[:] # copy\n",
    "        self.X[label] = X[label].clip(min=self.eps, max=1.0)\n",
    "        return -np.log(self.X[label])\n",
    "    def grad(self, label):\n",
    "        self.drop_grad.fill(0.0)\n",
    "        self.drop_grad[label] = -1.0/self.X[label]\n",
    "        return self.drop_grad[:] # return copy\n",
    "    \n",
    "class SoftMax:\n",
    "    def __init__(self, n):\n",
    "        self.n = n\n",
    "        self.tmp = np.empty((n,n), dtype='float32')\n",
    "        self.softmax = np.empty(n, dtype='float32')\n",
    "    def calc(self, X):\n",
    "        #print('x in softmax', max(X))\n",
    "        self.softmax = np.exp(X)\n",
    "        self.softmax /= np.sum(self.softmax)\n",
    "        return self.softmax\n",
    "    def grad(self, vec_top_grad):\n",
    "        mult(-self.softmax, self.softmax, self.tmp)\n",
    "        self.tmp[np.diag_indices_from(self.tmp)] += self.softmax#*(1.0-self.softmax)\n",
    "        return np.dot(vec_top_grad, self.tmp)\n",
    "\n",
    "class Net:\n",
    "    const_coeff = 0.1\n",
    "    coeff = 0.1\n",
    "    def __init__(self, layers, num_classes):\n",
    "        self.layers = layers\n",
    "        self.n_layers = len(layers)\n",
    "        self.cross = CrossEntropy(num_classes)\n",
    "    def calc(self, x):\n",
    "        res = None\n",
    "        for layer in self.layers:\n",
    "            res = layer.calc(x)\n",
    "            #print(res)\n",
    "            x = res\n",
    "        return res\n",
    "    def get_class(self, x):\n",
    "        res = self.calc(x)\n",
    "        return np.argmax(res), res\n",
    "    def fit(self, X, Y, n):\n",
    "        Net.coeff = Net.const_coeff\n",
    "        loss = np.zeros(shape=(n, len(Y)), dtype='float32')\n",
    "        for it in range(n):\n",
    "            print('EPOCH',it+1)\n",
    "            for x,y,i in zip(X,Y,range(len(Y))):\n",
    "                res = self.calc(x)\n",
    "                # cross res\n",
    "                loss[it, i] = self.cross.calc(res, y)\n",
    "                gr = self.cross.grad(y)\n",
    "                for layer in reversed(self.layers):\n",
    "                    gr = layer.grad(gr)\n",
    "            Net.coeff *= 0.90\n",
    "        return loss.flatten()\n",
    "                "
   ]
  },
  {
   "cell_type": "code",
   "execution_count": 4,
   "metadata": {},
   "outputs": [],
   "source": [
    "class FullConnected:\n",
    "    def __init__(self, W, b):\n",
    "        self.W = W\n",
    "        self.b = b\n",
    "        self.n_input = len(W)\n",
    "        self.n_output = len(b)\n",
    "        self.new_grad = np.zeros((self.n_input,self.n_output), dtype='float32')\n",
    "        self.res = np.zeros(self.n_output, dtype='float32')\n",
    "    def calc(self, x):\n",
    "        self.x = x[:] # copy\n",
    "        #vec(x)*matr(W)=vec(y)\n",
    "        self.res = np.dot(x, self.W)\n",
    "        self.res += self.b\n",
    "        #print('max W, b, res',np.max(self.W), np.max(self.b), np.max(self.res))\n",
    "        return self.res\n",
    "    def grad(self, vec_top_grad):\n",
    "        # поиск производной выхода y по входу x: d(y)/d(x)\n",
    "        next_grad = np.dot(self.W, vec_top_grad) #порядок умножения?\n",
    "        \n",
    "        # поиск производной по W\n",
    "        mult(self.x, vec_top_grad, self.new_grad)\n",
    "        self.W -= Net.coeff*self.new_grad #Net.coef коэффициент градиентного спуска\n",
    "        \n",
    "        # поиск производной по b\n",
    "        self.b -= Net.coeff*vec_top_grad\n",
    "        return next_grad"
   ]
  },
  {
   "cell_type": "code",
   "execution_count": 5,
   "metadata": {},
   "outputs": [
    {
     "name": "stdout",
     "output_type": "stream",
     "text": [
      "EPOCH 1\n",
      "x in softmax 0.86027646\n",
      "EPOCH 2\n",
      "x in softmax 0.83313596\n",
      "EPOCH 3\n",
      "x in softmax 0.8066898\n",
      "EPOCH 4\n",
      "x in softmax 0.7809069\n",
      "EPOCH 5\n",
      "x in softmax 0.7557584\n",
      "EPOCH 6\n",
      "x in softmax 0.7312168\n",
      "EPOCH 7\n",
      "x in softmax 0.70725584\n",
      "EPOCH 8\n",
      "x in softmax 0.68385094\n",
      "EPOCH 9\n",
      "x in softmax 0.6609789\n",
      "EPOCH 10\n",
      "x in softmax 0.63861763\n",
      "x in softmax 0.6167463\n",
      "[0.33774284 0.26497394 0.22456934 0.17271389]\n"
     ]
    },
    {
     "data": {
      "text/plain": [
       "1.3281238"
      ]
     },
     "execution_count": 5,
     "metadata": {},
     "output_type": "execute_result"
    }
   ],
   "source": [
    "num_classes = 4\n",
    "cross = CrossEntropy(num_classes)\n",
    "\n",
    "x = np.array([1.,0.5], dtype='float32')\n",
    "label = 1\n",
    "np.random.seed(0)\n",
    "l1 = FullConnected(*initW(2,4))\n",
    "l2 = FullConnected(*initW(4,num_classes))\n",
    "softmax = SoftMax(num_classes)\n",
    "\n",
    "net = Net([l1,l2, softmax],num_classes)\n",
    "net.fit([x], [label], 10)\n",
    "res = net.calc(x)\n",
    "print(res)\n",
    "cross.calc(res, label)"
   ]
  },
  {
   "cell_type": "code",
   "execution_count": 6,
   "metadata": {},
   "outputs": [],
   "source": [
    "import pickle\n",
    "def unpickle(file):\n",
    "    with open(file, 'rb') as fo:\n",
    "        dict = pickle.load(fo, encoding='bytes')\n",
    "    return dict\n",
    "data = unpickle('data/data_batch_1')"
   ]
  },
  {
   "cell_type": "code",
   "execution_count": 84,
   "metadata": {},
   "outputs": [
    {
     "name": "stdout",
     "output_type": "stream",
     "text": [
      "dict_keys([b'batch_label', b'labels', b'data', b'filenames'])\n",
      "10000\n",
      "3072\n",
      "<class 'numpy.ndarray'>\n"
     ]
    }
   ],
   "source": [
    "from PIL import Image\n",
    "print(data.keys())\n",
    "start, end = 2, 23\n",
    "img_ars = data[b'data'][start:end]\n",
    "img_labels = data[b'labels'][start:end]\n",
    "print(len(data[b'labels']))\n",
    "print(len(img_ars[0]))\n",
    "print(type(img_ars[0]))\n",
    "img_ars = img_ars\n",
    "for img_ar,i in zip(img_ars, range(start,end)):\n",
    "    img = Image.fromarray(np.transpose(np.reshape(img_ar,(3, 32,32)), (1,2,0)), 'RGB')\n",
    "    #img.save(str(i)+'.png')\n",
    "#print(img_labels)"
   ]
  },
  {
   "attachments": {
    "1.png": {
     "image/png": "[encoded data removed]"
    }
   },
   "cell_type": "markdown",
   "metadata": {},
   "source": [
    "![1.png](attachment:1.png)"
   ]
  },
  {
   "attachments": {
    "2.png": {
     "image/png": "[encoded data removed]"
    }
   },
   "cell_type": "markdown",
   "metadata": {},
   "source": [
    "![2.png](attachment:2.png)"
   ]
  },
  {
   "cell_type": "code",
   "execution_count": 32,
   "metadata": {},
   "outputs": [],
   "source": [
    "import matplotlib.pyplot as plt"
   ]
  },
  {
   "cell_type": "code",
   "execution_count": 91,
   "metadata": {},
   "outputs": [
    {
     "name": "stdout",
     "output_type": "stream",
     "text": [
      "EPOCH 1\n",
      "EPOCH 2\n",
      "EPOCH 3\n",
      "EPOCH 4\n",
      "EPOCH 5\n",
      "EPOCH 6\n",
      "EPOCH 7\n",
      "EPOCH 8\n",
      "EPOCH 9\n",
      "EPOCH 10\n",
      "EPOCH 11\n",
      "EPOCH 12\n",
      "EPOCH 13\n",
      "EPOCH 14\n",
      "EPOCH 15\n",
      "EPOCH 16\n",
      "EPOCH 17\n",
      "EPOCH 18\n",
      "EPOCH 19\n",
      "EPOCH 20\n",
      "EPOCH 21\n",
      "EPOCH 22\n",
      "EPOCH 23\n",
      "EPOCH 24\n",
      "EPOCH 25\n",
      "EPOCH 26\n",
      "EPOCH 27\n",
      "EPOCH 28\n",
      "EPOCH 29\n",
      "EPOCH 30\n",
      "0.17223848\n"
     ]
    },
    {
     "data": {
      "text/plain": [
       "[<matplotlib.lines.Line2D at 0x24029b247f0>]"
      ]
     },
     "execution_count": 91,
     "metadata": {},
     "output_type": "execute_result"
    },
    {
     "data": {
      "image/png": "[encoded data removed]",
      "text/plain": [
       "<Figure size 432x288 with 1 Axes>"
      ]
     },
     "metadata": {
      "needs_background": "light"
     },
     "output_type": "display_data"
    }
   ],
   "source": [
    "num_classes = 10\n",
    "n_input = len(img_ars[0])\n",
    "\n",
    "cross = CrossEntropy(num_classes)\n",
    "x = (img_ars/255.0).astype('float32')\n",
    "labels = img_labels\n",
    "#print(labels)\n",
    "np.random.seed(0)\n",
    "l1 = FullConnected(*initW(n_input, 192))\n",
    "leakyReLU = LeakyReLU()\n",
    "l2 = FullConnected(*initW(192, num_classes))\n",
    "softmax = SoftMax(num_classes)\n",
    "\n",
    "net = Net([l1, leakyReLU, l2, softmax],num_classes)\n",
    "loss = net.fit(x, labels, 30)\n",
    "print(loss[-1])\n",
    "plt.plot(loss)\n",
    "#for vl in range(len(x)):\n",
    "#    calc_class, res = net.get_class(x[vl])\n",
    "#    print(labels[vl], calc_class)\n",
    "    #print(res)"
   ]
  },
  {
   "cell_type": "code",
   "execution_count": null,
   "metadata": {},
   "outputs": [],
   "source": []
  }
 ],
 "metadata": {
  "kernelspec": {
   "display_name": "Python 3",
   "language": "python",
   "name": "python3"
  },
  "language_info": {
   "codemirror_mode": {
    "name": "ipython",
    "version": 3
   },
   "file_extension": ".py",
   "mimetype": "text/x-python",
   "name": "python",
   "nbconvert_exporter": "python",
   "pygments_lexer": "ipython3",
   "version": "3.8.6"
  }
 },
 "nbformat": 4,
 "nbformat_minor": 4
}
