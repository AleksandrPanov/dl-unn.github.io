{
 "cells": [
  {
   "cell_type": "code",
   "execution_count": 1,
   "metadata": {},
   "outputs": [],
   "source": [
    "import math\n",
    "import tensorflow as tf\n",
    "import numba as nb\n",
    "from numba import njit, prange\n",
    "import numpy as np\n",
    "from numpy.random import rand"
   ]
  },
  {
   "cell_type": "code",
   "execution_count": 25,
   "metadata": {},
   "outputs": [],
   "source": [
    "@njit(cache=True, parallel=True)\n",
    "def mult(a, b, res):\n",
    "    n = len(a)\n",
    "    m = len(b)\n",
    "    for i in prange(n):\n",
    "        for j in range(m):\n",
    "            res[i,j] = a[i]*b[j]\n",
    "\n",
    "class Sigmoid:\n",
    "    def __init__(self, n):\n",
    "        self.n = n\n",
    "        self.sigmoid = np.empty(n, dtype='float32')\n",
    "    def calc(self, X):\n",
    "        self.sigmoid = 1.0/(1.0+np.exp(-X))\n",
    "        return self.sigmoid\n",
    "    def grad(self, vec_top_grad):\n",
    "        return vec_top_grad*self.sigmoid*(1.0-self.sigmoid)\n",
    "\n",
    "class LeakyReLU:\n",
    "    def __init__(self, n):\n",
    "        self.n = n\n",
    "        self.alpha = 0.1\n",
    "        self.LeakyReLU = np.empty(n, dtype='float32')\n",
    "    def calc(self, X):\n",
    "        self.LeakyReLU = np.where(X>0,X, self.alpha*X)\n",
    "        return self.LeakyReLU\n",
    "    def grad(self, vec_top_grad):\n",
    "        return vec_top_grad*np.where(self.LeakyReLU>0, 1.0, self.alpha)"
   ]
  },
  {
   "cell_type": "code",
   "execution_count": 2,
   "metadata": {},
   "outputs": [],
   "source": [
    "class CrossEntropy:\n",
    "    def __init__(self, num_classes, batch = 1, eps = 1e-8):\n",
    "        self.num_classes = num_classes\n",
    "        self.drop_grad = np.zeros(self.num_classes, dtype='float32')\n",
    "        self.batch = batch\n",
    "        self.eps = eps\n",
    "    def calc(self, X, label):\n",
    "        #print(X)\n",
    "        self.X = X.clip(min=self.eps, max=1.0)\n",
    "        #print(self.X)\n",
    "        return -np.log(X[label])\n",
    "    def grad(self, label):\n",
    "        self.drop_grad.fill(0.0)\n",
    "        self.drop_grad[label] = -1.0/self.X[label]\n",
    "        return self.drop_grad\n",
    "    \n",
    "class SoftMax:\n",
    "    def __init__(self, n):\n",
    "        self.n = n\n",
    "        self.tmp = np.empty((n,n), dtype='float32')\n",
    "        self.softmax = np.empty(n, dtype='float32')\n",
    "    def calc(self, X):\n",
    "        print('x in softmax', max(X))\n",
    "        self.softmax = np.exp(X)\n",
    "        self.softmax /= np.sum(self.softmax)\n",
    "        return self.softmax\n",
    "    def grad(self, vec_top_grad):\n",
    "        mult(-self.softmax, self.softmax, self.tmp)\n",
    "        self.tmp[np.diag_indices_from(self.tmp)] = self.softmax*(1.0-self.softmax)\n",
    "        return np.dot(vec_top_grad, self.tmp)\n",
    "    \n",
    "def initW(n_input, n_output):\n",
    "    tmp1 = np.random.normal(0.0, 2.0/(n_input+n_output), size=n_input*n_output)\n",
    "    tmp1 = tmp1.reshape(n_input,n_output).astype('float32')\n",
    "    tmp2 = np.random.normal(0.0, 2.0/(n_output+n_output), size=n_output).astype('float32')\n",
    "    return tmp1, tmp2\n",
    "\n",
    "class Net:\n",
    "    const_coeff = 0.5\n",
    "    coeff = 0.5\n",
    "    def __init__(self, layers, num_classes):\n",
    "        self.layers = layers\n",
    "        self.n_layers = len(layers)\n",
    "        self.cross = CrossEntropy(num_classes)\n",
    "    def calc(self, x):\n",
    "        res = None\n",
    "        for layer in self.layers:\n",
    "            res = layer.calc(x)\n",
    "            #print(res)\n",
    "            x = res\n",
    "        return res\n",
    "    def get_class(self, x):\n",
    "        res = self.calc(x)\n",
    "        return np.argmax(res), res\n",
    "    def fit(self, X, Y, n):\n",
    "        Net.coeff = Net.const_coeff\n",
    "        for it in range(n):\n",
    "            print('EPOCH',it+1)\n",
    "            for x,y in zip(X,Y):\n",
    "                res = self.calc(x)\n",
    "                # cross res\n",
    "                self.cross.calc(res, y)\n",
    "                gr = self.cross.grad(y)\n",
    "                #print('cross-grad',max(abs(gr)))\n",
    "                max_gr = max(abs(gr))\n",
    "                for layer in reversed(self.layers):\n",
    "                    gr = layer.grad(gr)\n",
    "                    #print('grad',max(abs(gr)))\n",
    "                    max_gr = max(max_gr, max(abs(gr)))\n",
    "                Net.coeff *= 0.9\n",
    "                #print('max_grad',max_gr)"
   ]
  },
  {
   "cell_type": "code",
   "execution_count": 3,
   "metadata": {},
   "outputs": [],
   "source": [
    "class FullConnected:\n",
    "    def __init__(self, W, b):\n",
    "        self.W = W\n",
    "        self.b = b\n",
    "        self.n_input = len(W)\n",
    "        self.n_output = len(b)\n",
    "        self.new_grad = np.zeros((self.n_input,self.n_output), dtype='float32')\n",
    "        self.res = np.zeros(self.n_output, dtype='float32')\n",
    "    def calc(self, x):\n",
    "        self.x = x\n",
    "        #vec(x)*matr(W)=vec(y)\n",
    "        self.res = np.dot(x, self.W)\n",
    "        self.res += self.b\n",
    "        print('max W, b, res',np.max(self.W), np.max(self.b), np.max(self.res))\n",
    "        return self.res\n",
    "    def grad(self, vec_top_grad):\n",
    "        # поиск производной выхода y по входу x: d(y)/d(x)\n",
    "        next_grad = np.dot(self.W, vec_top_grad) #порядок умножения?\n",
    "        \n",
    "        # поиск производной по W\n",
    "        mult(self.x, vec_top_grad, self.new_grad)\n",
    "        self.W -= Net.coeff*self.new_grad #0.1 коэффициент градиентного спуска\n",
    "        \n",
    "        # поиск производной по b\n",
    "        self.b -= Net.coeff*vec_top_grad\n",
    "        return next_grad"
   ]
  },
  {
   "cell_type": "code",
   "execution_count": 4,
   "metadata": {},
   "outputs": [
    {
     "name": "stdout",
     "output_type": "stream",
     "text": [
      "EPOCH 1\n",
      "max W, b, res 0.7469644 0.36356837 1.0853066\n",
      "max W, b, res 0.56743866 0.3831948 0.86027646\n",
      "x in softmax 0.86027646\n",
      "EPOCH 2\n",
      "max W, b, res 0.59923625 0.22504447 0.94593054\n",
      "max W, b, res 0.38492867 0.7732025 1.4644704\n",
      "x in softmax 1.4644704\n",
      "EPOCH 3\n",
      "max W, b, res 0.6299235 0.3210662 1.1619794\n",
      "max W, b, res 0.5296237 0.93698287 2.105098\n",
      "x in softmax 2.105098\n",
      "EPOCH 4\n",
      "max W, b, res 0.67275286 0.38251776 1.3002454\n",
      "max W, b, res 0.6214872 1.0160407 2.5296335\n",
      "x in softmax 2.5296335\n",
      "EPOCH 5\n",
      "max W, b, res 0.7121374 0.4219023 1.3888606\n",
      "max W, b, res 0.67879534 1.0601156 2.8139892\n",
      "x in softmax 2.8139892\n",
      "EPOCH 6\n",
      "max W, b, res 0.7394201 0.44918498 1.4502467\n",
      "max W, b, res 0.7179721 1.0883234 3.017518\n",
      "x in softmax 3.017518\n",
      "EPOCH 7\n",
      "max W, b, res 0.75952095 0.46928582 1.4954736\n",
      "max W, b, res 0.7466084 1.1080692 3.1711216\n",
      "x in softmax 3.1711216\n",
      "EPOCH 8\n",
      "max W, b, res 0.774986 0.4847509 1.53027\n",
      "max W, b, res 0.76852375 1.1227237 3.291481\n",
      "x in softmax 3.291481\n",
      "EPOCH 9\n",
      "max W, b, res 0.7872585 0.49702334 1.557883\n",
      "max W, b, res 0.7858485 1.134045 3.388371\n",
      "x in softmax 3.388371\n",
      "EPOCH 10\n",
      "max W, b, res 0.7972224 0.5069872 1.5803018\n",
      "max W, b, res 0.7998737 1.1430477 3.4679441\n",
      "x in softmax 3.4679441\n",
      "max W, b, res 0.8054538 0.5152186 1.5988224\n",
      "max W, b, res 0.8114341 1.150363 3.5343018\n",
      "x in softmax 3.5343018\n",
      "[0.00793694 0.96533245 0.01551619 0.01121438]\n"
     ]
    },
    {
     "data": {
      "text/plain": [
       "0.03528273"
      ]
     },
     "execution_count": 4,
     "metadata": {},
     "output_type": "execute_result"
    }
   ],
   "source": [
    "num_classes = 4\n",
    "cross = CrossEntropy(num_classes)\n",
    "\n",
    "x = np.array([1.,0.5], dtype='float32')\n",
    "label = 1\n",
    "np.random.seed(0)\n",
    "l1 = FullConnected(*initW(2,4))\n",
    "l2 = FullConnected(*initW(4,num_classes))\n",
    "softmax = SoftMax(num_classes)\n",
    "\n",
    "net = Net([l1,l2, softmax],num_classes)\n",
    "net.fit([x], [label], 10)\n",
    "res = net.calc(x)\n",
    "print(res)\n",
    "cross.calc(res, label)"
   ]
  },
  {
   "cell_type": "code",
   "execution_count": 5,
   "metadata": {},
   "outputs": [],
   "source": [
    "import pickle\n",
    "def unpickle(file):\n",
    "    with open(file, 'rb') as fo:\n",
    "        dict = pickle.load(fo, encoding='bytes')\n",
    "    return dict\n",
    "data = unpickle('data/data_batch_1')"
   ]
  },
  {
   "cell_type": "code",
   "execution_count": 19,
   "metadata": {},
   "outputs": [
    {
     "name": "stdout",
     "output_type": "stream",
     "text": [
      "dict_keys([b'batch_label', b'labels', b'data', b'filenames'])\n",
      "3072\n",
      "<class 'numpy.ndarray'>\n",
      "[9]\n"
     ]
    }
   ],
   "source": [
    "from PIL import Image\n",
    "print(data.keys())\n",
    "start, end = 2, 3\n",
    "img_ars = data[b'data'][start:end]\n",
    "img_labels = data[b'labels'][start:end]\n",
    "print(len(img_ars[0]))\n",
    "print(type(img_ars[0]))\n",
    "img_ars = img_ars\n",
    "for img_ar,i in zip(img_ars, range(start,end)):\n",
    "    img = Image.fromarray(np.transpose(np.reshape(img_ar,(3, 32,32)), (1,2,0)), 'RGB')\n",
    "    img.save(str(i)+'.png')\n",
    "print(img_labels)"
   ]
  },
  {
   "attachments": {
    "1.png": {
     "image/png": "[encoded data removed]"
    }
   },
   "cell_type": "markdown",
   "metadata": {},
   "source": [
    "![1.png](attachment:1.png)"
   ]
  },
  {
   "attachments": {
    "2.png": {
     "image/png": "[encoded data removed]"
    }
   },
   "cell_type": "markdown",
   "metadata": {},
   "source": [
    "![2.png](attachment:2.png)"
   ]
  },
  {
   "cell_type": "code",
   "execution_count": 24,
   "metadata": {},
   "outputs": [
    {
     "name": "stdout",
     "output_type": "stream",
     "text": [
      "[9]\n",
      "EPOCH 1\n",
      "max W, b, res 0.0028345326 0.015343387 0.061227813\n",
      "max W, b, res 0.026923034 0.064989544 0.06586914\n",
      "x in softmax 0.06586914\n",
      "EPOCH 2\n",
      "max W, b, res 0.01111435 0.018527998 10.792968\n",
      "max W, b, res 0.035471484 0.33206314 8.240567\n",
      "x in softmax 8.240567\n",
      "EPOCH 3\n",
      "max W, b, res 0.011135978 0.018541088 10.818428\n",
      "max W, b, res 0.039393324 0.33272022 11.358049\n",
      "x in softmax 11.358049\n",
      "EPOCH 4\n",
      "max W, b, res 0.01113665 0.018541435 10.819224\n",
      "max W, b, res 0.03948948 0.33273625 11.43447\n",
      "x in softmax 11.43447\n",
      "EPOCH 5\n",
      "max W, b, res 0.011137209 0.018541722 10.819875\n",
      "max W, b, res 0.039568994 0.33274952 11.49766\n",
      "x in softmax 11.49766\n",
      "EPOCH 6\n",
      "max W, b, res 0.011137678 0.018541962 10.820437\n",
      "max W, b, res 0.03963552 0.3327606 11.550531\n",
      "x in softmax 11.550531\n",
      "EPOCH 7\n",
      "max W, b, res 0.011138078 0.018542167 10.820899\n",
      "max W, b, res 0.039691914 0.33277 11.59535\n",
      "x in softmax 11.59535\n",
      "EPOCH 8\n",
      "max W, b, res 0.011138421 0.018542342 10.821302\n",
      "max W, b, res 0.0397402 0.33277804 11.633727\n",
      "x in softmax 11.633727\n",
      "EPOCH 9\n",
      "max W, b, res 0.011138717 0.018542493 10.821656\n",
      "max W, b, res 0.039781865 0.33278498 11.666845\n",
      "x in softmax 11.666845\n",
      "EPOCH 10\n",
      "max W, b, res 0.011138974 0.018542625 10.821964\n",
      "max W, b, res 0.039817978 0.332791 11.695555\n",
      "x in softmax 11.695555\n",
      "max W, b, res 0.011139198 0.018542739 10.822224\n",
      "max W, b, res 0.039849374 0.33279625 11.720501\n",
      "x in softmax 11.720501\n",
      "\n",
      "\n",
      "class, res 9 0.9999737 9\n"
     ]
    },
    {
     "data": {
      "text/plain": [
       "2.6285994e-05"
      ]
     },
     "execution_count": 24,
     "metadata": {},
     "output_type": "execute_result"
    }
   ],
   "source": [
    "num_classes = 10\n",
    "n_input = len(img_ars[0])\n",
    "\n",
    "cross = CrossEntropy(num_classes)\n",
    "x = (img_ars/255.0).astype('float32')\n",
    "labels = img_labels\n",
    "print(labels)\n",
    "np.random.seed(0)\n",
    "l1 = FullConnected(*initW(n_input, 256))\n",
    "#leakyReLU = LeakyReLU(256)\n",
    "l2 = FullConnected(*initW(256, num_classes))\n",
    "softmax = SoftMax(num_classes)\n",
    "\n",
    "net = Net([l1, l2, softmax],num_classes)\n",
    "net.fit(x, labels, 10)\n",
    "vx, vl = x[0], 0\n",
    "calc_class, res = net.get_class(vx)\n",
    "print('\\n\\nclass, res',calc_class, max(res), labels[0])\n",
    "cross.calc(res, labels[vl])"
   ]
  },
  {
   "cell_type": "code",
   "execution_count": 18,
   "metadata": {},
   "outputs": [
    {
     "name": "stdout",
     "output_type": "stream",
     "text": [
      "[1. 2. 3.]\n",
      "[4]\n",
      "[1. 2. 3.]\n"
     ]
    }
   ],
   "source": [
    "class test:\n",
    "    def __init__(self):\n",
    "        self.x = np.array([1, 2, 3], dtype='float32')\n",
    "    def get(self):\n",
    "        return self.x\n",
    "obj = test()\n",
    "tmp = obj.get()\n",
    "print(tmp)\n",
    "tmp = [4]\n",
    "print(tmp)\n",
    "print(obj.x)"
   ]
  }
 ],
 "metadata": {
  "kernelspec": {
   "display_name": "Python 3",
   "language": "python",
   "name": "python3"
  },
  "language_info": {
   "codemirror_mode": {
    "name": "ipython",
    "version": 3
   },
   "file_extension": ".py",
   "mimetype": "text/x-python",
   "name": "python",
   "nbconvert_exporter": "python",
   "pygments_lexer": "ipython3",
   "version": "3.8.6"
  }
 },
 "nbformat": 4,
 "nbformat_minor": 4
}
