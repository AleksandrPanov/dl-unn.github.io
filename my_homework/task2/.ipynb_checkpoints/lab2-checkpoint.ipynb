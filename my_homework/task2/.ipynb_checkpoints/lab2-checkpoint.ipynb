{
 "cells": [
  {
   "cell_type": "code",
   "execution_count": 1,
   "metadata": {},
   "outputs": [],
   "source": [
    "import sys\n",
    "import math\n",
    "import tensorflow as tf\n",
    "import numba as nb\n",
    "from numba import njit, prange\n",
    "import numpy as np\n",
    "from numpy.random import rand\n",
    "import matplotlib.pyplot as plt"
   ]
  },
  {
   "cell_type": "code",
   "execution_count": 2,
   "metadata": {},
   "outputs": [],
   "source": [
    "@njit(cache=True, parallel=True)\n",
    "def mult_b(bs, x, y, res):\n",
    "    n = len(x[0])\n",
    "    m = len(y[0])\n",
    "    for b in range(bs):\n",
    "        for i in prange(n):\n",
    "            for j in range(m):\n",
    "                res[i,j] += x[b,i]*y[b,j]\n",
    "\n",
    "@njit(cache=True, parallel=True)\n",
    "def mult(x, y, res):\n",
    "    n = len(x)\n",
    "    m = len(y)\n",
    "    for i in prange(n):\n",
    "        for j in range(m):\n",
    "            res[i,j] = x[i]*y[j]\n",
    "\n",
    "class Sigmoid:\n",
    "    def calc(self, X):\n",
    "        self.sigmoid = 1.0/(1.0+np.exp(-X))\n",
    "        return self.sigmoid\n",
    "    def grad(self, vec_top_grad):\n",
    "        return vec_top_grad*self.sigmoid*(1.0-self.sigmoid)\n",
    "\n",
    "class LeakyReLU:\n",
    "    def __init__(self):\n",
    "        self.alpha = 0.1\n",
    "    def calc(self, X):\n",
    "        self.LeakyReLU = np.where(X>0,X, self.alpha*X)\n",
    "        return self.LeakyReLU\n",
    "    def grad(self, vec_top_grad):\n",
    "        return vec_top_grad*np.where(self.LeakyReLU>0, 1.0, self.alpha)\n",
    "    \n",
    "class SoftMax:\n",
    "    def __init__(self, n, batch):\n",
    "        self.n = n\n",
    "        self.batch = batch\n",
    "        self.softmax = np.empty((batch, n), dtype='float32')\n",
    "        self.drop_grad = np.empty((batch, n), dtype='float32')\n",
    "        self.tmp = np.empty((n,n), dtype='float32')\n",
    "    def calc(self, X):\n",
    "        #print('x in softmax', max(X))\n",
    "        batch = len(X)\n",
    "        self.softmax = np.exp(X)\n",
    "        for i in range(batch):\n",
    "            self.softmax[i] /= np.sum(self.softmax[i])\n",
    "        return self.softmax\n",
    "    def grad(self, vec_top_grad):\n",
    "        for i in range(self.batch):\n",
    "            mult(-self.softmax[i], self.softmax[i], self.tmp)\n",
    "            self.tmp[np.diag_indices_from(self.tmp)] += self.softmax[i]#*(1.0-self.softmax)\n",
    "            self.drop_grad[i] = np.dot(vec_top_grad[i], self.tmp)\n",
    "        return self.drop_grad\n",
    "    \n",
    "def initW(n_input, n_output): # Xavier init\n",
    "    tmp1 = np.random.normal(0.0, 2.0/(n_input+n_output), size=n_input*n_output)\n",
    "    tmp1 = tmp1.reshape(n_input,n_output).astype('float32')\n",
    "    tmp2 = np.random.normal(0.0, 2.0/(n_output+n_output), size=n_output).astype('float32')\n",
    "    return tmp1, tmp2"
   ]
  },
  {
   "cell_type": "code",
   "execution_count": 40,
   "metadata": {},
   "outputs": [],
   "source": [
    "class CrossEntropy:\n",
    "    def __init__(self, num_classes, batch, eps = 1e-6):\n",
    "        self.num_classes = num_classes\n",
    "        self.drop_grad = np.zeros((batch, num_classes), dtype='float32')\n",
    "        self.eps = eps\n",
    "    def calc(self, X, labels):\n",
    "        self.X = X\n",
    "        cross = 0.0\n",
    "        for i in range(len(labels)):\n",
    "            self.X[i,labels[i]] = X[i,labels[i]].clip(min=self.eps, max=1.0)\n",
    "            cross -= np.log(self.X[i,labels[i]])\n",
    "        return cross / len(labels)\n",
    "    def grad(self, labels):\n",
    "        self.drop_grad.fill(0.0)\n",
    "        for i in range(len(labels)):\n",
    "            self.drop_grad[i, labels[i]] = -1.0/self.X[i, labels[i]]\n",
    "        return self.drop_grad\n",
    "\n",
    "class Net:\n",
    "    const_coeff = 0.05\n",
    "    coeff = None\n",
    "    def __init__(self, layers, num_classes, batch):\n",
    "        self.layers = layers\n",
    "        self.n_layers = len(layers)\n",
    "        self.cross = CrossEntropy(num_classes, batch)\n",
    "        self.batch = batch\n",
    "    def calc(self, x):\n",
    "        res = None\n",
    "        for layer in self.layers:\n",
    "            res = layer.calc(x)\n",
    "            x = res\n",
    "        return res\n",
    "    def get_class(self, x):\n",
    "        res = self.calc([x])\n",
    "        return np.argmax(res), res\n",
    "    def fit(self, X, Y, n):\n",
    "        Net.coeff = Net.const_coeff/self.batch\n",
    "        remainder = len(Y) % self.batch\n",
    "        if remainder > 0:\n",
    "            X = np.vstack((X, X[0:self.batch-remainder]))\n",
    "            Y = np.append(Y, Y[0:self.batch-remainder])\n",
    "        loss = np.zeros(shape=(n, len(Y)//self.batch+1), dtype='float32')\n",
    "        for it in range(n):\n",
    "            print('EPOCH',it+1)\n",
    "            for i in range(0, len(Y), self.batch):\n",
    "                res = self.calc(X[i:i+self.batch])\n",
    "                # cross res\n",
    "                loss[it, i//self.batch] = self.cross.calc(res, Y[i:i+self.batch])\n",
    "                print(loss[it, i//self.batch])\n",
    "                gr = self.cross.grad(Y[i:i+self.batch])\n",
    "                for layer in reversed(self.layers):\n",
    "                    gr = layer.grad(gr)\n",
    "            Net.coeff *= 0.90\n",
    "        print(loss)\n",
    "        return loss.flatten()\n",
    "                "
   ]
  },
  {
   "cell_type": "code",
   "execution_count": 4,
   "metadata": {},
   "outputs": [],
   "source": [
    "class FullConnected:\n",
    "    def __init__(self, W, b):\n",
    "        self.W = W\n",
    "        self.b = b\n",
    "        self.n_input = len(W)\n",
    "        self.n_output = len(b)\n",
    "        self.new_grad = np.zeros((self.n_input,self.n_output), dtype='float32')\n",
    "        self.res = np.zeros(self.n_output, dtype='float32')\n",
    "    def calc(self, x):\n",
    "        self.x = x\n",
    "        #vec(x)*matr(W)=vec(y)\n",
    "        self.res = np.dot(x, self.W)# матрица из batch строк и output cтолбцов\n",
    "        self.res += self.b\n",
    "        #print('max W, b, res',np.max(self.W), np.max(self.b), np.max(self.res))\n",
    "        return self.res\n",
    "    def grad(self, vec_top_grad):\n",
    "        batch = len(vec_top_grad)\n",
    "        # поиск производной выхода y по входу x: d(y)/d(x)\n",
    "        next_grad = np.matmul(self.W, vec_top_grad.T).T #порядок умножения?\n",
    "        \n",
    "        # поиск производной по W\n",
    "        self.new_grad.fill(0.0)\n",
    "        mult_b(batch, self.x, vec_top_grad, self.new_grad)\n",
    "        self.W -= Net.coeff*self.new_grad #Net.coef коэффициент градиентного спуска\n",
    "        \n",
    "        # поиск производной по b\n",
    "        self.b -= Net.coeff*vec_top_grad.sum(axis=0)\n",
    "        return next_grad"
   ]
  },
  {
   "cell_type": "code",
   "execution_count": 5,
   "metadata": {},
   "outputs": [],
   "source": [
    "import pickle\n",
    "def unpickle(file):\n",
    "    with open(file, 'rb') as fo:\n",
    "        dict = pickle.load(fo, encoding='bytes')\n",
    "    return dict\n",
    "data = unpickle('data/data_batch_1')"
   ]
  },
  {
   "cell_type": "code",
   "execution_count": 6,
   "metadata": {},
   "outputs": [
    {
     "name": "stdout",
     "output_type": "stream",
     "text": [
      "dict_keys([b'batch_label', b'labels', b'data', b'filenames'])\n",
      "10000\n",
      "3072\n",
      "21\n",
      "<class 'numpy.ndarray'>\n"
     ]
    }
   ],
   "source": [
    "from PIL import Image\n",
    "print(data.keys())\n",
    "start, end = 2, 23\n",
    "img_ars = data[b'data'][start:end]\n",
    "img_labels = data[b'labels'][start:end]\n",
    "print(len(data[b'labels']))\n",
    "print(len(img_ars[0]))\n",
    "print(len(img_ars))\n",
    "print(type(img_ars[0]))\n",
    "img_ars = img_ars\n",
    "for img_ar,i in zip(img_ars, range(start,end)):\n",
    "    img = Image.fromarray(np.transpose(np.reshape(img_ar,(3, 32,32)), (1,2,0)), 'RGB')\n",
    "    #img.save(str(i)+'.png')\n",
    "#print(img_labels)"
   ]
  },
  {
   "attachments": {
    "1.png": {
     "image/png": "[encoded data removed]"
    }
   },
   "cell_type": "markdown",
   "metadata": {},
   "source": [
    "![1.png](attachment:1.png)"
   ]
  },
  {
   "attachments": {
    "2.png": {
     "image/png": "[encoded data removed]"
    }
   },
   "cell_type": "markdown",
   "metadata": {},
   "source": [
    "![2.png](attachment:2.png)"
   ]
  },
  {
   "cell_type": "code",
   "execution_count": 41,
   "metadata": {},
   "outputs": [
    {
     "name": "stdout",
     "output_type": "stream",
     "text": [
      "EPOCH 1\n",
      "2.3068862\n",
      "2.280933\n",
      "0.0\n",
      "9 6\n",
      "4 6\n",
      "1 6\n",
      "1 6\n",
      "2 6\n",
      "7 6\n",
      "8 6\n",
      "3 6\n",
      "4 6\n",
      "7 6\n",
      "7 6\n",
      "2 6\n",
      "9 6\n",
      "9 6\n",
      "9 6\n",
      "3 6\n",
      "2 6\n",
      "6 6\n",
      "4 6\n",
      "3 6\n",
      "6 6\n"
     ]
    },
    {
     "data": {
      "image/png": "[encoded data removed]",
      "text/plain": [
       "<Figure size 432x288 with 1 Axes>"
      ]
     },
     "metadata": {
      "needs_background": "light"
     },
     "output_type": "display_data"
    }
   ],
   "source": [
    "np.random.seed(0)\n",
    "num_classes = 10\n",
    "n_input = len(img_ars[0])\n",
    "batch = 11\n",
    "epoch = 1\n",
    "\n",
    "x = (img_ars/255.0).astype('float32')\n",
    "labels = img_labels\n",
    "\n",
    "#print(labels)\n",
    "l1 = FullConnected(*initW(n_input, 192))\n",
    "leakyReLU = LeakyReLU()\n",
    "l2 = FullConnected(*initW(192, num_classes))\n",
    "softmax = SoftMax(num_classes, batch)\n",
    "\n",
    "net = Net([l1, leakyReLU, l2, softmax],num_classes,batch)\n",
    "loss = net.fit(x, labels, epoch)\n",
    "print(loss[-1])\n",
    "plt.plot(loss)\n",
    "for i in range(len(x)):\n",
    "    calc_class, res = net.get_class(x[i])\n",
    "    print(labels[i], calc_class)\n",
    "    #print(res)"
   ]
  },
  {
   "cell_type": "code",
   "execution_count": 14,
   "metadata": {},
   "outputs": [
    {
     "name": "stdout",
     "output_type": "stream",
     "text": [
      "EPOCH 1\n",
      "8.644533\n"
     ]
    },
    {
     "data": {
      "text/plain": [
       "(6,\n",
       " array([[2.1553124e-07, 1.4387684e-18, 1.8215537e-02, 5.2938494e-03,\n",
       "         8.9534812e-12, 5.5887597e-07, 6.9954765e-01, 2.6126309e-10,\n",
       "         6.0149756e-07, 2.7694163e-01]], dtype=float32))"
      ]
     },
     "execution_count": 14,
     "metadata": {},
     "output_type": "execute_result"
    }
   ],
   "source": [
    "np.random.seed(0)\n",
    "num_classes = 10\n",
    "n_input = len(img_ars[0])\n",
    "batch = 4\n",
    "\n",
    "x = (img_ars/255.0).astype('float32')\n",
    "labels = img_labels\n",
    "\n",
    "l1 = FullConnected(*initW(n_input, 192))\n",
    "leakyReLU = LeakyReLU()\n",
    "l2 = FullConnected(*initW(192, num_classes))\n",
    "softmax = SoftMax(num_classes, batch)\n",
    "\n",
    "net = Net([l1, leakyReLU, l2, softmax],num_classes, batch)\n",
    "loss = net.fit(x, labels, 1)\n",
    "print(loss[-1])\n",
    "net.get_class(x[0])"
   ]
  },
  {
   "cell_type": "code",
   "execution_count": null,
   "metadata": {},
   "outputs": [],
   "source": []
  }
 ],
 "metadata": {
  "kernelspec": {
   "display_name": "Python 3",
   "language": "python",
   "name": "python3"
  },
  "language_info": {
   "codemirror_mode": {
    "name": "ipython",
    "version": 3
   },
   "file_extension": ".py",
   "mimetype": "text/x-python",
   "name": "python",
   "nbconvert_exporter": "python",
   "pygments_lexer": "ipython3",
   "version": "3.8.6"
  }
 },
 "nbformat": 4,
 "nbformat_minor": 4
}
