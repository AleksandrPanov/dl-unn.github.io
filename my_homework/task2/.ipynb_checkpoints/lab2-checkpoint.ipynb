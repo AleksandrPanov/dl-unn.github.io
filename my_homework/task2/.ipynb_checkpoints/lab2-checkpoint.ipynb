{
 "cells": [
  {
   "cell_type": "markdown",
   "metadata": {},
   "source": [
    "# CIFAR-10 classification with a neural network\n",
    "# Author: Panov Aleksandr 381903-3m"
   ]
  },
  {
   "cell_type": "code",
   "execution_count": 1,
   "metadata": {},
   "outputs": [],
   "source": [
    "import tensorflow as tf\n",
    "import numba as nb\n",
    "from numba import njit, prange\n",
    "import numpy as np\n",
    "from numpy.random import rand\n",
    "import matplotlib.pyplot as plt\n",
    "import pickle\n",
    "from PIL import Image\n",
    "import copy"
   ]
  },
  {
   "cell_type": "markdown",
   "metadata": {},
   "source": [
    "## 1. Load CIFAR-10 dataset and prepare data"
   ]
  },
  {
   "cell_type": "code",
   "execution_count": 2,
   "metadata": {},
   "outputs": [
    {
     "name": "stdout",
     "output_type": "stream",
     "text": [
      "50000\n",
      "50000\n",
      "dict_keys([b'batch_label', b'labels', b'data', b'filenames'])\n",
      "10000\n",
      "3072\n",
      "21\n",
      "<class 'numpy.ndarray'>\n"
     ]
    }
   ],
   "source": [
    "path = 'data/data_batch_'\n",
    "def unpickle(file):\n",
    "    with open(file, 'rb') as fo:\n",
    "        dict = pickle.load(fo, encoding='bytes')\n",
    "    return dict\n",
    "data = unpickle('data/data_batch_1')\n",
    "test_data = unpickle('data/test_batch')\n",
    "\n",
    "X_test = ((test_data[b'data'])/255.0).astype('float32')\n",
    "Y_test = np.array(test_data[b'labels'], dtype='int64')\n",
    "\n",
    "\n",
    "all_x = data[b'data'][:]\n",
    "all_y = data[b'labels'][:]\n",
    "for i in range(2,6):\n",
    "    d = unpickle(path+str(i))\n",
    "    all_x = np.append(all_x, d[b'data'], axis=0)\n",
    "    all_y = np.append(all_y, d[b'labels'])\n",
    "all_x = (all_x/255.0).astype('float32')\n",
    "print(len(all_x))\n",
    "print(len(all_y))\n",
    "print(data.keys())\n",
    "start, end = 2, 23\n",
    "img_ars = data[b'data'][start:end]\n",
    "img_labels = data[b'labels'][start:end]\n",
    "print(len(data[b'labels']))\n",
    "print(len(img_ars[0]))\n",
    "print(len(img_ars))\n",
    "print(type(img_ars[0]))\n",
    "img_ars = img_ars\n",
    "for img_ar,i in zip(img_ars, range(start,end)):\n",
    "    img = Image.fromarray(np.transpose(np.reshape(img_ar,(3, 32,32)), (1,2,0)), 'RGB')\n",
    "    #img.save(str(i)+'.png')\n",
    "#print(img_labels)"
   ]
  },
  {
   "cell_type": "markdown",
   "metadata": {},
   "source": [
    "Пример картинок из CIFAR-10:"
   ]
  },
  {
   "attachments": {
    "1.png": {
     "image/png": "[encoded data removed]"
    }
   },
   "cell_type": "markdown",
   "metadata": {},
   "source": [
    "![1.png](attachment:1.png)"
   ]
  },
  {
   "attachments": {
    "2.png": {
     "image/png": "[encoded data removed]"
    }
   },
   "cell_type": "markdown",
   "metadata": {},
   "source": [
    "![2.png](attachment:2.png)"
   ]
  },
  {
   "cell_type": "markdown",
   "metadata": {},
   "source": [
    "## 2. NN implementation, layers, activations, loss functions and optimizer\n",
    "\n",
    "Начальная инициализация весов выполняется с помощью Xavier initialization.\n",
    "\n",
    "В данной работе реализованы следущие слои:\n",
    "1. Fully Connected с поддержкой \"батчей\"\n",
    "\n",
    "В данной работе реализованы следущие функции активации:\n",
    "1. Sigmoid\n",
    "2. LeakyReLU\n",
    "3. SoftMax\n",
    "\n",
    "В качестве функции потерь реализована функция кросс-энтропии.\n",
    "\n",
    "В данной работе реализована простейшая верия стохастического градиентного спуска, с batch и с уменьшением learning rate на каждой эпохе. Уменьшение lr достигается путем умножения на константу со значением меньше единицы."
   ]
  },
  {
   "cell_type": "code",
   "execution_count": 3,
   "metadata": {},
   "outputs": [],
   "source": [
    "@njit(cache=True, parallel=True)\n",
    "def mult_b(bs, x, y, res):\n",
    "    n = len(x[0])\n",
    "    m = len(y[0])\n",
    "    for b in range(bs):\n",
    "        for i in prange(n):\n",
    "            for j in range(m):\n",
    "                res[i,j] += x[b,i]*y[b,j]\n",
    "\n",
    "@njit(cache=True, parallel=True)\n",
    "def mult(x, y, res):\n",
    "    n = len(x)\n",
    "    m = len(y)\n",
    "    for i in prange(n):\n",
    "        for j in range(m):\n",
    "            res[i,j] = x[i]*y[j]\n",
    "\n",
    "class Sigmoid:\n",
    "    def calc(self, X):\n",
    "        self.sigmoid = 1.0/(1.0+np.exp(-X))\n",
    "        return self.sigmoid\n",
    "    def grad(self, vec_top_grad):\n",
    "        return vec_top_grad*self.sigmoid*(1.0-self.sigmoid)\n",
    "\n",
    "class LeakyReLU:\n",
    "    def __init__(self):\n",
    "        self.alpha = 0.1\n",
    "    def calc(self, X):\n",
    "        self.LeakyReLU = np.where(X>0,X, self.alpha*X)\n",
    "        return self.LeakyReLU\n",
    "    def grad(self, vec_top_grad):\n",
    "        return vec_top_grad*np.where(self.LeakyReLU>0, 1.0, self.alpha)\n",
    "\n",
    "class SoftMax:\n",
    "    def __init__(self, n, batch):\n",
    "        self.n = n\n",
    "        self.batch = batch\n",
    "        self.softmax = np.empty((batch, n), dtype='float32')\n",
    "        self.drop_grad = np.empty((batch, n), dtype='float32')\n",
    "        self.tmp = np.empty((n,n), dtype='float32')\n",
    "    def calc(self, X):\n",
    "        #print('x in softmax', max(X))\n",
    "        batch = len(X)\n",
    "        self.softmax = np.exp(X)\n",
    "        for i in range(batch):\n",
    "            self.softmax[i] /= np.sum(self.softmax[i])\n",
    "        return self.softmax\n",
    "    def grad(self, vec_top_grad):\n",
    "        for i in range(self.batch):\n",
    "            mult(-self.softmax[i], self.softmax[i], self.tmp)\n",
    "            self.tmp[np.diag_indices_from(self.tmp)] += self.softmax[i]#*(1.0-self.softmax)\n",
    "            self.drop_grad[i] = np.dot(vec_top_grad[i], self.tmp)\n",
    "        return self.drop_grad\n",
    "    \n",
    "def initW(n_input, n_output): # Xavier init\n",
    "    tmp1 = np.random.normal(0.0, 2.0/(n_input+n_output), size=n_input*n_output)\n",
    "    tmp1 = tmp1.reshape(n_input,n_output).astype('float32')\n",
    "    tmp2 = np.random.normal(0.0, 2.0/(n_output+n_output), size=n_output).astype('float32')\n",
    "    return tmp1, tmp2"
   ]
  },
  {
   "cell_type": "code",
   "execution_count": 4,
   "metadata": {},
   "outputs": [],
   "source": [
    "class FullConnected:\n",
    "    def __init__(self, W, b):\n",
    "        self.W = W\n",
    "        self.b = b\n",
    "        self.n_input = len(W)\n",
    "        self.n_output = len(b)\n",
    "        self.new_grad = np.zeros((self.n_input,self.n_output), dtype='float32')\n",
    "        self.res = np.zeros(self.n_output, dtype='float32')\n",
    "    def calc(self, x):\n",
    "        self.x = x\n",
    "        #vec(x)*matr(W)=vec(y)\n",
    "        self.res = np.dot(x, self.W)# матрица из batch строк и output cтолбцов\n",
    "        self.res += self.b\n",
    "        #print('max W, b, res',np.max(self.W), np.max(self.b), np.max(self.res))\n",
    "        return self.res\n",
    "    def grad(self, vec_top_grad):\n",
    "        batch = len(vec_top_grad)\n",
    "        # поиск производной выхода y по входу x: d(y)/d(x)\n",
    "        next_grad = np.matmul(self.W, vec_top_grad.T).T #порядок умножения?\n",
    "        \n",
    "        # поиск производной по W\n",
    "        self.new_grad.fill(0.0)\n",
    "        mult_b(batch, self.x, vec_top_grad, self.new_grad)\n",
    "        self.W -= Net.coeff*self.new_grad #Net.coef коэффициент градиентного спуска\n",
    "        \n",
    "        # поиск производной по b\n",
    "        self.b -= Net.coeff*vec_top_grad.sum(axis=0)\n",
    "        return next_grad"
   ]
  },
  {
   "cell_type": "code",
   "execution_count": 5,
   "metadata": {},
   "outputs": [],
   "source": [
    "class CrossEntropy:\n",
    "    def __init__(self, num_classes, batch, eps = 1e-6):\n",
    "        self.num_classes = num_classes\n",
    "        self.drop_grad = np.zeros((batch, num_classes), dtype='float32')\n",
    "        self.eps = eps\n",
    "    def calc(self, X, labels):\n",
    "        self.X = X\n",
    "        cross = 0.0\n",
    "        for i in range(len(labels)):\n",
    "            self.X[i,labels[i]] = X[i,labels[i]].clip(min=self.eps, max=1.0)\n",
    "            cross -= np.log(self.X[i,labels[i]])\n",
    "        return cross / len(labels)\n",
    "    def grad(self, labels):\n",
    "        self.drop_grad.fill(0.0)\n",
    "        for i in range(len(labels)):\n",
    "            self.drop_grad[i, labels[i]] = -1.0/(self.X[i, labels[i]]*len(labels))\n",
    "        return self.drop_grad\n",
    "\n",
    "class Net:\n",
    "    const_coeff = 0.1\n",
    "    const_alpha = 0.9\n",
    "    coeff = None\n",
    "    def __init__(self, layers, num_classes, batch):\n",
    "        self.layers = layers\n",
    "        self.n_layers = len(layers)\n",
    "        self.cross = CrossEntropy(num_classes, batch)\n",
    "        self.batch = batch\n",
    "    def calc(self, x):\n",
    "        res = None\n",
    "        for layer in self.layers:\n",
    "            res = layer.calc(x)\n",
    "            x = res\n",
    "        return res\n",
    "    def get_class(self, x):\n",
    "        res = self.calc([x])\n",
    "        return np.argmax(res)#, res\n",
    "    def get_classes(self, X):\n",
    "        return [self.get_class(x) for x in X]\n",
    "    def fit(self, X, Y, n, need_shuffle = False):\n",
    "        Y = np.array(Y, dtype='int32')\n",
    "        Net.coeff = Net.const_coeff#/self.batch\n",
    "        remainder = len(Y) % self.batch\n",
    "        if remainder > 0:\n",
    "            X = np.vstack((X, X[0:self.batch-remainder]))\n",
    "            Y = np.append(Y, Y[0:self.batch-remainder])\n",
    "        loss = np.zeros(shape=(n, len(Y)//self.batch), dtype='float32')\n",
    "        error = np.zeros(n, dtype='float32')\n",
    "        for it in range(n):\n",
    "            if n < 20 and it % 4 == 0: print('EPOCH',it)\n",
    "            elif n < 100 and it % 10 == 0: print('EPOCH',it)\n",
    "            elif it % 100 == 0: print('EPOCH',it)\n",
    "            np.random.seed(it)\n",
    "            if need_shuffle: indx = np.random.permutation(len(Y))\n",
    "            else: indx = range(len(Y))\n",
    "            for i in range(0, len(Y), self.batch):\n",
    "                x = X[indx[i:i+self.batch]]\n",
    "                y = Y[indx[i:i+self.batch]]\n",
    "                res = self.calc(x)\n",
    "                error[it] += (np.sum(y != [np.argmax(b) for b in res])/len(Y))\n",
    "                \n",
    "                # cross res\n",
    "                loss[it, i//self.batch] = self.cross.calc(res, y)\n",
    "                gr = self.cross.grad(y)\n",
    "                for layer in reversed(self.layers):\n",
    "                    gr = layer.grad(gr)\n",
    "            Net.coeff *= Net.const_alpha\n",
    "        return loss.flatten(), error"
   ]
  },
  {
   "cell_type": "markdown",
   "metadata": {},
   "source": [
    "## 3. Check correctness\n",
    "Для проверки корректности проверим способность сети из двух слоев FC быстро переобучаться на 21 картинке, размер батча равен одному."
   ]
  },
  {
   "cell_type": "code",
   "execution_count": 6,
   "metadata": {},
   "outputs": [
    {
     "name": "stdout",
     "output_type": "stream",
     "text": [
      "EPOCH 0\n",
      "EPOCH 10\n",
      "EPOCH 20\n",
      "EPOCH 30\n",
      "0.13545305\n",
      "9 9\n",
      "4 4\n",
      "1 1\n",
      "1 1\n",
      "2 2\n",
      "7 7\n",
      "8 8\n",
      "3 3\n",
      "4 4\n",
      "7 7\n",
      "7 7\n",
      "2 2\n",
      "9 9\n",
      "9 9\n",
      "9 9\n",
      "3 3\n",
      "2 2\n",
      "6 6\n",
      "4 4\n",
      "3 3\n",
      "6 6\n"
     ]
    },
    {
     "data": {
      "image/png": "[encoded data removed]",
      "text/plain": [
       "<Figure size 432x288 with 1 Axes>"
      ]
     },
     "metadata": {
      "needs_background": "light"
     },
     "output_type": "display_data"
    }
   ],
   "source": [
    "np.random.seed(0)\n",
    "num_classes = 10\n",
    "n_input = len(img_ars[0])\n",
    "batch = 1\n",
    "epoch = 40\n",
    "Net.const_coeff = 0.1\n",
    "Net.const_alpha = 0.9\n",
    "\n",
    "x = (img_ars/255.0).astype('float32')\n",
    "labels = img_labels\n",
    "\n",
    "l1 = FullConnected(*initW(n_input, 192))\n",
    "leakyReLU = LeakyReLU()\n",
    "l2 = FullConnected(*initW(192, num_classes))\n",
    "softmax = SoftMax(num_classes, batch)\n",
    "\n",
    "net = Net([l1, leakyReLU, l2, softmax],num_classes,batch)\n",
    "loss, error = net.fit(x, labels, epoch)\n",
    "print(loss[-1])\n",
    "plt.plot(loss)\n",
    "for i in range(len(x)):\n",
    "    calc_class = net.get_class(x[i])\n",
    "    print(labels[i], calc_class)"
   ]
  },
  {
   "cell_type": "code",
   "execution_count": 7,
   "metadata": {
    "scrolled": true
   },
   "outputs": [
    {
     "data": {
      "text/plain": [
       "[<matplotlib.lines.Line2D at 0x124ab959490>]"
      ]
     },
     "execution_count": 7,
     "metadata": {},
     "output_type": "execute_result"
    },
    {
     "data": {
      "image/png": "[encoded data removed]",
      "text/plain": [
       "<Figure size 432x288 with 1 Axes>"
      ]
     },
     "metadata": {
      "needs_background": "light"
     },
     "output_type": "display_data"
    }
   ],
   "source": [
    "plt.plot(error)"
   ]
  },
  {
   "cell_type": "markdown",
   "metadata": {},
   "source": [
    "Loss быстро уменьшается и ошибка на тестовой выборке из 21 картинки быстро стремится к нулю.\n",
    "\n",
    "Проверим работоспособность сетки, с батчом равным 21:"
   ]
  },
  {
   "cell_type": "code",
   "execution_count": 8,
   "metadata": {},
   "outputs": [
    {
     "name": "stdout",
     "output_type": "stream",
     "text": [
      "EPOCH 0\n",
      "EPOCH 100\n",
      "0.021639656\n"
     ]
    },
    {
     "data": {
      "text/plain": [
       "[<matplotlib.lines.Line2D at 0x124aaedfeb0>]"
      ]
     },
     "execution_count": 8,
     "metadata": {},
     "output_type": "execute_result"
    },
    {
     "data": {
      "image/png": "[encoded data removed]",
      "text/plain": [
       "<Figure size 432x288 with 1 Axes>"
      ]
     },
     "metadata": {
      "needs_background": "light"
     },
     "output_type": "display_data"
    }
   ],
   "source": [
    "np.random.seed(0)\n",
    "num_classes = 10\n",
    "n_input = len(img_ars[0])\n",
    "batch = 21\n",
    "epoch = 140\n",
    "Net.const_coeff = 0.1\n",
    "Net.const_alpha = 0.999\n",
    "\n",
    "x = (img_ars/255.0).astype('float32')\n",
    "labels = img_labels\n",
    "\n",
    "l1 = FullConnected(*initW(n_input, 192))\n",
    "leakyReLU = LeakyReLU()\n",
    "l2 = FullConnected(*initW(192, num_classes))\n",
    "softmax = SoftMax(num_classes, batch)\n",
    "\n",
    "net = Net([l1, leakyReLU, l2, softmax],num_classes,batch)\n",
    "loss, error = net.fit(x, labels, epoch)\n",
    "print(loss[-1])\n",
    "plt.plot(loss)\n",
    "#for i in range(len(x)):\n",
    "#    calc_class = net.get_class(x[i])\n",
    "#    print(labels[i], calc_class)"
   ]
  },
  {
   "cell_type": "code",
   "execution_count": 9,
   "metadata": {},
   "outputs": [
    {
     "data": {
      "text/plain": [
       "[<matplotlib.lines.Line2D at 0x124aaf35b20>]"
      ]
     },
     "execution_count": 9,
     "metadata": {},
     "output_type": "execute_result"
    },
    {
     "data": {
      "image/png": "[encoded data removed]",
      "text/plain": [
       "<Figure size 432x288 with 1 Axes>"
      ]
     },
     "metadata": {
      "needs_background": "light"
     },
     "output_type": "display_data"
    }
   ],
   "source": [
    "plt.plot(error)"
   ]
  },
  {
   "cell_type": "markdown",
   "metadata": {},
   "source": [
    "Loss и ошибка на тестовой выборке также быстро уменьшаются, можно предположить, что forward и backpropagation для всех используемых слоев/функций активации реализованы корректно. Также сеть корректно работает и с использованием батчей."
   ]
  },
  {
   "cell_type": "markdown",
   "metadata": {},
   "source": [
    "## 4. Experiments"
   ]
  },
  {
   "cell_type": "markdown",
   "metadata": {},
   "source": [
    "### FC(768x96)\n",
    "Экспериментально была подобрана следующая конфигурация:\n",
    "\n",
    "FC(3072x768)->leakyReLU->FC(768x96)->leakyReLU->FC(96x10)->SoftMax\n",
    "\n",
    "batch = 128"
   ]
  },
  {
   "cell_type": "code",
   "execution_count": 10,
   "metadata": {
    "scrolled": true
   },
   "outputs": [
    {
     "name": "stdout",
     "output_type": "stream",
     "text": [
      "EPOCH 0\n",
      "EPOCH 4\n",
      "EPOCH 8\n",
      "EPOCH 10\n",
      "0.4782\n"
     ]
    },
    {
     "data": {
      "image/png": "[encoded data removed]",
      "text/plain": [
       "<Figure size 432x288 with 1 Axes>"
      ]
     },
     "metadata": {
      "needs_background": "light"
     },
     "output_type": "display_data"
    }
   ],
   "source": [
    "np.random.seed(0)\n",
    "num_classes = 10\n",
    "n_input = len(img_ars[0])\n",
    "batch = 128\n",
    "\n",
    "l1 = FullConnected(*initW(n_input, 768))\n",
    "leakyReLU1 = LeakyReLU()\n",
    "l2 = FullConnected(*initW(768, 96))\n",
    "leakyReLU2 = LeakyReLU()#Sigmoid()\n",
    "l3 = FullConnected(*initW(96, num_classes))\n",
    "softmax = SoftMax(num_classes, batch)\n",
    "\n",
    "epoch = 12\n",
    "Net.const_coeff = 0.5\n",
    "Net.const_alpha = 0.9\n",
    "fin_net1 = Net([l1, leakyReLU1, l2, leakyReLU2, l3, softmax], num_classes,batch)\n",
    "loss,error = fin_net1.fit(all_x, all_y, epoch, True)\n",
    "plt.plot(loss)\n",
    "print(np.mean(Y_test == fin_net1.get_classes(X_test)))"
   ]
  },
  {
   "cell_type": "code",
   "execution_count": 11,
   "metadata": {},
   "outputs": [
    {
     "data": {
      "text/plain": [
       "[<matplotlib.lines.Line2D at 0x124aafa8a90>]"
      ]
     },
     "execution_count": 11,
     "metadata": {},
     "output_type": "execute_result"
    },
    {
     "data": {
      "image/png": "[encoded data removed]",
      "text/plain": [
       "<Figure size 432x288 with 1 Axes>"
      ]
     },
     "metadata": {
      "needs_background": "light"
     },
     "output_type": "display_data"
    }
   ],
   "source": [
    "plt.plot(error)"
   ]
  },
  {
   "cell_type": "code",
   "execution_count": 13,
   "metadata": {},
   "outputs": [
    {
     "name": "stdout",
     "output_type": "stream",
     "text": [
      "EPOCH 0\n",
      "EPOCH 4\n",
      "EPOCH 8\n",
      "EPOCH 10\n",
      "0.5284\n"
     ]
    },
    {
     "data": {
      "image/png": "[encoded data removed]",
      "text/plain": [
       "<Figure size 432x288 with 1 Axes>"
      ]
     },
     "metadata": {
      "needs_background": "light"
     },
     "output_type": "display_data"
    }
   ],
   "source": [
    "epoch = 12\n",
    "fin_net2 = copy.deepcopy(fin_net1)\n",
    "Net.const_coeff = 0.25\n",
    "Net.const_alpha = 0.9\n",
    "loss, error = fin_net2.fit(all_x, all_y, epoch, True)\n",
    "plt.plot(loss)\n",
    "print(np.mean(Y_test == fin_net2.get_classes(X_test)))"
   ]
  },
  {
   "cell_type": "code",
   "execution_count": 14,
   "metadata": {},
   "outputs": [
    {
     "data": {
      "text/plain": [
       "[<matplotlib.lines.Line2D at 0x124ab498250>]"
      ]
     },
     "execution_count": 14,
     "metadata": {},
     "output_type": "execute_result"
    },
    {
     "data": {
      "image/png": "[encoded data removed]",
      "text/plain": [
       "<Figure size 432x288 with 1 Axes>"
      ]
     },
     "metadata": {
      "needs_background": "light"
     },
     "output_type": "display_data"
    }
   ],
   "source": [
    "plt.plot(error)"
   ]
  },
  {
   "cell_type": "code",
   "execution_count": 18,
   "metadata": {},
   "outputs": [
    {
     "name": "stdout",
     "output_type": "stream",
     "text": [
      "EPOCH 0\n",
      "EPOCH 4\n",
      "0.5482\n"
     ]
    }
   ],
   "source": [
    "epoch = 8\n",
    "fin_net3 = copy.deepcopy(fin_net2)\n",
    "Net.const_coeff = 0.03 #epoch = 4, const_coeff = 0.08, const_alpha=0.9 0.5\n",
    "Net.const_alpha = 0.9  #epoch = 8, const_coeff = 0.03, const_alpha=0.9 0.5097\n",
    "loss, error = fin_net3.fit(all_x, all_y, epoch, True)\n",
    "print(np.mean(Y_test == fin_net3.get_classes(X_test)))"
   ]
  },
  {
   "cell_type": "code",
   "execution_count": 22,
   "metadata": {},
   "outputs": [
    {
     "name": "stdout",
     "output_type": "stream",
     "text": [
      "EPOCH 0\n",
      "EPOCH 10\n",
      "EPOCH 20\n",
      "EPOCH 30\n",
      "0.5505\n"
     ]
    },
    {
     "data": {
      "text/plain": [
       "[<matplotlib.lines.Line2D at 0x124abda7a90>]"
      ]
     },
     "execution_count": 22,
     "metadata": {},
     "output_type": "execute_result"
    },
    {
     "data": {
      "image/png": "[encoded data removed]",
      "text/plain": [
       "<Figure size 432x288 with 1 Axes>"
      ]
     },
     "metadata": {
      "needs_background": "light"
     },
     "output_type": "display_data"
    }
   ],
   "source": [
    "epoch = 32\n",
    "fin_net4 = copy.deepcopy(fin_net3)\n",
    "Net.const_coeff = 0.08 #epoch = 8, const_coeff = 0.03, const_alpha=0.9 0.55\n",
    "Net.const_alpha = 0.9 \n",
    "loss, error = fin_net4.fit(all_x, all_y, epoch, True)\n",
    "print(np.mean(Y_test == fin_net4.get_classes(X_test)))\n",
    "plt.plot(loss)"
   ]
  },
  {
   "cell_type": "code",
   "execution_count": 23,
   "metadata": {},
   "outputs": [
    {
     "data": {
      "text/plain": [
       "[<matplotlib.lines.Line2D at 0x124abdfd970>]"
      ]
     },
     "execution_count": 23,
     "metadata": {},
     "output_type": "execute_result"
    },
    {
     "data": {
      "image/png": "[encoded data removed]",
      "text/plain": [
       "<Figure size 432x288 with 1 Axes>"
      ]
     },
     "metadata": {
      "needs_background": "light"
     },
     "output_type": "display_data"
    }
   ],
   "source": [
    "plt.plot(error)"
   ]
  },
  {
   "cell_type": "code",
   "execution_count": null,
   "metadata": {},
   "outputs": [
    {
     "name": "stdout",
     "output_type": "stream",
     "text": [
      "EPOCH 0\n",
      "EPOCH 10\n"
     ]
    }
   ],
   "source": [
    "epoch = 32\n",
    "fin_net5 = copy.deepcopy(fin_net4)\n",
    "Net.const_coeff = 0.06\n",
    "Net.const_alpha = 0.9 \n",
    "loss, error = fin_net5.fit(all_x, all_y, epoch, True)\n",
    "print(np.mean(Y_test == fin_net5.get_classes(X_test)))\n",
    "plt.plot(loss)"
   ]
  },
  {
   "cell_type": "code",
   "execution_count": null,
   "metadata": {},
   "outputs": [],
   "source": [
    "plt.plot(error)"
   ]
  },
  {
   "cell_type": "markdown",
   "metadata": {},
   "source": [
    "## 5. Results\n",
    "### The best NN architecture\n",
    "FC(3072x768)->leakyReLU->FC(768x96)->leakyReLU->FC(96x10)->SoftMax\n",
    "\n",
    "### Learning rate strategy and batch size\n",
    "Learning rate имел начальное значение 0.5 и уменьшался до 0.05.\n",
    "\n",
    "batch size = 128.\n",
    "\n",
    "### Data augmentations\n",
    "Входные данные были нормированы по максимальному значению 255.\n",
    "\n",
    "### The best model test accuracy\n",
    "Максимальная точность составила 0.5505"
   ]
  },
  {
   "cell_type": "code",
   "execution_count": null,
   "metadata": {},
   "outputs": [],
   "source": []
  }
 ],
 "metadata": {
  "kernelspec": {
   "display_name": "Python 3",
   "language": "python",
   "name": "python3"
  },
  "language_info": {
   "codemirror_mode": {
    "name": "ipython",
    "version": 3
   },
   "file_extension": ".py",
   "mimetype": "text/x-python",
   "name": "python",
   "nbconvert_exporter": "python",
   "pygments_lexer": "ipython3",
   "version": "3.8.6"
  }
 },
 "nbformat": 4,
 "nbformat_minor": 4
}
